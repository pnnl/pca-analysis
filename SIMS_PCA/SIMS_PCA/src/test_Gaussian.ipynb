{
 "cells": [
  {
   "cell_type": "code",
   "execution_count": 46,
   "metadata": {},
   "outputs": [],
   "source": [
    "%matplotlib inline\n",
    "\n",
    "import numpy as np\n",
    "import matplotlib.pyplot as plt\n",
    "import pandas as pd\n",
    "from scipy.stats import norm"
   ]
  },
  {
   "cell_type": "code",
   "execution_count": 47,
   "metadata": {},
   "outputs": [],
   "source": [
    "# Get the mass vs. species data\n",
    "data = pd.read_csv(\"train_data.csv\")"
   ]
  },
  {
   "cell_type": "code",
   "execution_count": 48,
   "metadata": {},
   "outputs": [
    {
     "name": "stdout",
     "output_type": "stream",
     "text": [
      "Num output classes:  49\n"
     ]
    }
   ],
   "source": [
    "# ----------------------------Generate testing data----------------------------\n",
    "test_size = 1000\n",
    "# Get how many classes we need from the original data\n",
    "output_dim = data.shape[0]\n",
    "print(\"Num output classes: \", output_dim)\n",
    "\n",
    "# Select a bunch of random rows in the data\n",
    "np.random.seed(2)\n",
    "masses = []\n",
    "species = []\n",
    "for i in range(test_size):\n",
    "    rand_index = np.random.randint(output_dim)\n",
    "    masses.append(data.at[rand_index, \"Precise Mass\"])\n",
    "    # Use one-hot encodig of species strings to integers.\n",
    "    species.append(rand_index)\n",
    "masses = np.array(masses)\n",
    "\n",
    "# TODO Accuracy goes down from 100% --> 0% as this uncertainty gets too small. Possibly use:\n",
    "#      1) More accurate uncertainties?\n",
    "#      2) A warning / default classification when vector becomes all 0s ([0,0,0,0,...0])?\n",
    "# Generate noise for the same number of rows'. Multiply by an uncertainty factor representative of real data noise (e.g., usually around 10-100 ppm, or 1e-5 to 1e-4).\n",
    "unc = 1e-4\n",
    "noise = unc * np.random.standard_normal(size = test_size)\n",
    "\n",
    "# Combine the noise and randomly selected masses to create our training data\n",
    "x_data = masses + noise*masses\n",
    "y_data = species\n",
    "# print(\"x_data: \", x_data)\n",
    "# print(\"y_data: \", y_data)"
   ]
  },
  {
   "cell_type": "code",
   "execution_count": 49,
   "metadata": {},
   "outputs": [
    {
     "name": "stdout",
     "output_type": "stream",
     "text": [
      "[[ 1.0073  2.0152  6.0146 ... 88.0757 91.0543 91.9719]\n",
      " [ 1.0073  2.0152  6.0146 ... 88.0757 91.0543 91.9719]\n",
      " [ 1.0073  2.0152  6.0146 ... 88.0757 91.0543 91.9719]\n",
      " ...\n",
      " [ 1.0073  2.0152  6.0146 ... 88.0757 91.0543 91.9719]\n",
      " [ 1.0073  2.0152  6.0146 ... 88.0757 91.0543 91.9719]\n",
      " [ 1.0073  2.0152  6.0146 ... 88.0757 91.0543 91.9719]]\n"
     ]
    }
   ],
   "source": [
    "# Make the known species masses into a row, then repeat for the length of the training data to prepare for mass array operations\n",
    "# in the next cell\n",
    "precise_masses = np.reshape(np.array(data[\"Precise Mass\"]), (1,-1))\n",
    "precise_masses = precise_masses.repeat(test_size,0)\n",
    "print(precise_masses)"
   ]
  },
  {
   "cell_type": "code",
   "execution_count": 50,
   "metadata": {},
   "outputs": [
    {
     "name": "stdout",
     "output_type": "stream",
     "text": [
      "[[0.     0.     0.     0.     0.     0.     0.     0.     0.     0.\n",
      "  0.     0.     0.     0.     0.     0.     0.     0.     0.     0.\n",
      "  0.     0.     0.     0.     0.     0.     0.     0.     0.     0.\n",
      "  0.     0.     0.     0.     0.     0.     0.     0.     0.     0.\n",
      "  1.     0.     0.     0.     0.     0.     0.     0.     0.    ]\n",
      " [0.     0.     0.     0.     0.     0.     0.     0.     0.     0.\n",
      "  0.     0.     0.     0.     0.4023 0.5977 0.     0.     0.     0.\n",
      "  0.     0.     0.     0.     0.     0.     0.     0.     0.     0.\n",
      "  0.     0.     0.     0.     0.     0.     0.     0.     0.     0.\n",
      "  0.     0.     0.     0.     0.     0.     0.     0.     0.    ]\n",
      " [0.     0.     0.     0.     0.     0.     0.     0.     0.     0.\n",
      "  0.     0.     0.     0.     0.     0.     0.     0.     0.     0.\n",
      "  0.     0.     0.     0.     0.     0.     0.     0.     0.     0.\n",
      "  0.     0.     0.     0.     0.     0.     0.     0.     0.     0.\n",
      "  0.     0.     0.     0.     0.     1.     0.     0.     0.    ]]\n"
     ]
    }
   ],
   "source": [
    "# Calculate standard deviations and resulting probabilities for each mass according to its uncertainty pdf.\n",
    "# We transform the x_data from 1 x n to n x 1, then broadcast it to n x 48 while subtracting precise_masses and dividing\n",
    "# by the uncertainty to get the number of standard deviations each measured mass is from each of the 48 known species\n",
    "# masses, then use norm.cdf to convert to probabilities.\n",
    "prob_matrix = np.zeros((test_size,len(data)))\n",
    "prob_matrix = (np.reshape(x_data, (-1,1)) - precise_masses) / (1000 * unc)  # TODO = 1e-1. This (overall) factor currently results in 8% accuracy @ 1e-5, 98% accuracy @ 1e-3, 97% accuracy @ 1e14, and 8% accuracy @ 1e17.\n",
    "prob_matrix = (norm.cdf(-abs(prob_matrix)))\n",
    "\n",
    "# Calculate relative probabilities by scaling row sum to 1\n",
    "rel_prob_matrix = 1/np.reshape(np.sum(prob_matrix,1),(-1,1)) * prob_matrix\n",
    "# Print out rows from the relative probability matrix to give us an idea of the output\n",
    "print(np.round(rel_prob_matrix[0:3,:],4))"
   ]
  },
  {
   "cell_type": "code",
   "execution_count": 51,
   "metadata": {},
   "outputs": [
    {
     "name": "stdout",
     "output_type": "stream",
     "text": [
      "\n",
      "Predicted: \n",
      " ['Na2O+', 'C2H3+', 'C5H12N+', 'OH3+', 'K+', 'SiC3H9+', '29Si+', 'Mg+', 'Na2O+', 'NH4+', 'C4H7+', 'Na2+', 'Mg+', 'OCH3+', 'C7H7+', 'Na2+', '41K+', '30Si+', 'C3H6N+', 'CaOH+', 'Li+', 'C4H9+', 'B+', 'C4H8N+', 'SiC3H9+', 'CaOH+', 'C4H9+', 'C4H8N+', 'C4H5+', 'Li+', 'C+', 'Ca+', 'B+', 'C4H10NO+', 'CH3+', 'Na2+', 'CH4N+', 'Na2+', '6Li+', 'Si+', 'C4H10NO+', '25Mg+', 'B+', '41K+', 'C2H3+', 'CaOH+', 'C4H10NO+', 'OH3+', 'C5H12N+', 'C2H3+', 'Na2OH+', 'C5H12N+', 'OH3+', 'C2H5+', 'K+', 'Ca++', 'Na2OH+', 'C4H10NO+', '41K+', 'CH4N+', 'C2H8N+', 'SiC3H9+', 'C2H8N+', '41K+', 'OH3+', '25Mg+', 'Na+', 'Na2O+', 'C4H7+', 'Ca++', 'C3H6N+', 'CH3+', 'K+', 'CH3+', 'CH4N+', '29Si+', 'H2+', 'B+', 'Na2O+', 'C2H5+', 'CH3+', 'C3H6N+', 'C4H5+', '29Si+', '30Si+', '41K+', 'C3H3+', 'K+', 'SiC3H9+', 'C3H6N+', 'Na+', 'OH3+', '41K+', 'Fe+', 'C3H7+', 'C2H8N+', 'Si+', 'OCH3+', 'SiC3H9+', 'SiOH+', 'Si+', 'Na2O+', 'CH3+', 'Na+', 'C3H6N+', 'C2H5+', 'C2H3+', 'C2H5O+', '26Mg+', '41K+', 'CaOH+', 'SiC3H9+', 'C7H7+', '30Si+', 'K+', 'Si2+', 'C3H7+', 'H+', 'Na2O+', 'C2H6N+', 'Si2+', 'Mg+', 'C4H10NO+', 'Ca++', 'NH4+', '29Si+', 'H2+', 'C2H3+', 'C3H7+', 'C4H10NO+', 'C2H8N+', 'CaOH+', 'Na2O+', 'C6H5+', 'C4H10NO+', 'Ca++', 'SiC3H9+', 'Al+', 'C2H5O+', 'C4H10NO+', 'Na2+', 'C2H8N+', 'Si+', 'OCH3+', 'SiC3H9+', 'C4H7+', 'OCH3+', 'C4H8N+', 'CH4N+', 'C2H6N+', 'C4H5+', 'OH3+', 'SiC3H9+', 'K+', 'Ca+', 'C7H7+', 'Mg+', 'H2+', 'SiC3H9+', 'C+', 'NH4+', 'Si+', 'Na2OH+', 'C2H6N+', 'C2H3+', 'C2H5+', 'C3H6N+', 'Na2+', 'C4H7+', 'Si+', 'C4H8N+', 'Na2NO2+', 'Si2+', 'K+', 'CH4N+', 'Na2+', 'C2H5+', 'C5H12N+', 'OH3+', 'C3H6N+', 'Ca++', 'OCH3+', 'Si2+', 'CaOH+', 'Na2O+', 'CaOH+', 'CH4N+', '41K+', 'Si2+', 'Na2O+', 'C4H9+', 'CH4N+', 'OH3+', 'Al+', 'C3H7+', 'Li+', 'C2H3+', '6Li+', 'K+', 'C+', 'C+', '29Si+', 'C3H6N+', 'SiOH+', '25Mg+', 'C2H6N+', 'CH3+', 'C6H5+', 'C+', 'Si+', 'C+', '41K+', 'CH4N+', 'CaOH+', 'C3H6N+', 'C3H5+', 'Si2+', 'C2H3+', 'OCH3+', '29Si+', 'K+', 'SiOH+', 'Al+', 'H+', 'C+', 'C3H3+', 'C4H5+', 'C4H9+', 'NH4+', 'C2H8N+', '29Si+', 'SiOH+', 'C2H3+', 'C5H12N+', 'C2H6N+', '30Si+', '41K+', 'Si+', 'CH3+', 'C4H9+', 'Ca+', 'CH3+', 'SiC3H9+', 'OCH3+', 'OCH3+', 'Na2OH+', 'Si2+', 'Na2OH+', 'Na2O+', 'CH4N+', 'B+', 'C4H7+', '25Mg+', 'C2H3+', 'C7H7+', 'CaOH+', 'OCH3+', 'H2+', 'C5H12N+', 'C2H6N+', 'C3H3+', 'Fe+', 'C2H5+', '29Si+', 'C2H6N+', 'C3H7+', 'C4H8N+', 'C4H9+', 'Na+', '41K+', 'C5H12N+', 'C4H5+', '6Li+', 'C4H9+', 'C2H8N+', 'OCH3+', '25Mg+', 'CH4N+', '29Si+', 'OH3+', 'Mg+', 'Na2OH+', 'C3H3+', 'C3H7+', 'Si+', 'B+', 'C7H7+', '25Mg+', 'C4H7+', 'C3H3+', 'Na2OH+', 'CH4N+', 'C4H5+', 'Na2+', 'C2H5+', 'C3H5+', 'Ca++', 'H+', 'OH3+', 'Na2NO2+', 'Na+', 'OH3+', 'C3H6N+', 'Fe+', 'Na2O+', 'C4H10NO+', 'Fe+', 'Al+', 'C2H3+', 'C6H5+', 'CH3+', 'C4H5+', 'C4H7+', 'Na2+', 'SiOH+', 'C4H7+', 'C4H5+', 'Fe+', '26Mg+', '25Mg+', 'C7H7+', 'CH4N+', 'C5H12N+', 'C6H5+', '6Li+', 'Na2+', 'Fe+', '41K+', 'Na+', 'C3H7+', 'C4H8N+', 'SiC3H9+', 'Fe+', 'C4H8N+', 'Li+', 'SiOH+', 'H+', 'C6H5+', 'C+', 'Na+', 'Mg+', 'C2H5O+', 'C4H8N+', 'C2H5+', '29Si+', 'H2+', 'K+', 'C4H7+', 'Al+', 'C4H10NO+', 'C6H5+', 'Fe+', 'C4H10NO+', 'C7H7+', 'K+', 'SiOH+', 'CH4N+', 'Na2OH+', 'H+', 'C2H5O+', 'Si2+', 'C4H7+', 'Mg+', 'OCH3+', 'OCH3+', 'C3H7+', 'CH4N+', 'Ca++', 'C2H5+', 'Na2O+', 'C2H3+', 'C7H7+', 'Na+', 'B+', 'C4H9+', '26Mg+', 'C2H5O+', '29Si+', 'CH3+', 'C3H3+', 'OCH3+', '41K+', 'Si+', 'C2H5+', 'C3H6N+', 'CH3+', 'SiOH+', 'C7H7+', 'C4H7+', 'K+', 'SiC3H9+', 'H+', 'K+', '41K+', 'H+', 'B+', 'C3H3+', 'C7H7+', 'C2H6N+', 'Si+', 'C7H7+', 'Ca++', 'C4H10NO+', 'C4H8N+', 'Si+', 'Na2NO2+', 'NH4+', 'Na2O+', 'H+', 'Ca+', 'Mg+', 'C7H7+', 'Si+', 'C4H9+', 'C4H10NO+', 'C3H3+', 'Ca+', 'C3H5+', '6Li+', 'NH4+', 'C3H6N+', 'Ca++', 'Na+', 'CH4N+', '25Mg+', 'Na2+', 'B+', 'H+', 'Na2+', 'C4H9+', '41K+', 'Na+', 'Al+', 'Na2O+', 'Al+', 'C+', 'Si+', 'C3H7+', 'C+', 'C2H8N+', 'Ca++', 'OH3+', 'Al+', '25Mg+', 'C3H7+', 'Na2OH+', 'SiOH+', 'C7H7+', 'Ca++', 'Na2O+', '25Mg+', 'C4H5+', 'C2H5+', '6Li+', 'C4H10NO+', 'C4H7+', 'K+', 'C2H5O+', 'Na2OH+', 'Mg+', 'Ca+', 'C2H3+', 'CH4N+', 'C3H7+', 'C3H5+', 'Si2+', 'C5H12N+', 'OH3+', 'Si2+', 'C2H8N+', 'C2H8N+', 'C3H7+', 'B+', '25Mg+', 'C3H3+', 'C+', 'C3H5+', 'C2H5O+', '41K+', 'Na2OH+', 'K+', 'C2H8N+', 'C3H7+', 'C4H9+', 'Ca+', '41K+', 'C2H6N+', 'Na2+', 'C2H8N+', 'CaOH+', 'SiC3H9+', 'C5H12N+', 'C+', 'NH4+', 'Na2+', 'CH3+', 'Ca++', 'CH4N+', 'Si+', '30Si+', 'Ca++', 'Na2NO2+', 'C3H7+', 'Si+', 'SiC3H9+', 'Na+', 'Na2+', '25Mg+', 'C4H10NO+', 'Ca++', '30Si+', 'CaOH+', 'K+', 'C+', 'Ca++', 'OCH3+', 'C2H6N+', 'Na2OH+', 'C7H7+', 'C4H10NO+', 'C4H8N+', '29Si+', 'C2H8N+', 'Ca++', 'Na2O+', '6Li+', 'H2+', 'C4H9+', 'C2H5+', 'C3H5+', 'Fe+', 'C3H5+', 'C4H7+', '6Li+', 'C4H8N+', 'OH3+', '6Li+', '29Si+', 'K+', 'C4H9+', 'C+', 'C2H8N+', 'OCH3+', 'C2H3+', 'Na+', 'Li+', 'Na+', 'Na2OH+', 'Na2NO2+', 'C3H3+', 'K+', 'C6H5+', 'Na2+', 'C4H8N+', 'C3H6N+', 'NH4+', 'C2H8N+', 'C2H3+', 'C2H5+', 'Na2OH+', 'Mg+', 'C4H5+', 'C3H7+', 'CH3+', 'Na2NO2+', 'C2H5+', 'Na2+', 'CH3+', 'C+', '25Mg+', 'C+', 'C2H5O+', 'Ca+', 'Ca++', 'C4H8N+', 'C5H12N+', 'C4H5+', 'C4H5+', 'C3H6N+', 'C5H12N+', 'C3H5+', 'Na2OH+', 'C+', 'SiC3H9+', '25Mg+', 'SiOH+', 'H+', 'Li+', 'C+', 'NH4+', 'C4H9+', 'C4H5+', '6Li+', 'H+', 'SiOH+', '26Mg+', 'Al+', '25Mg+', 'C4H5+', 'Na2NO2+', 'OH3+', 'C2H5O+', 'H2+', 'Na2OH+', 'Na2O+', 'K+', 'CH3+', 'Fe+', '26Mg+', 'C5H12N+', '6Li+', '6Li+', 'Li+', 'C2H5O+', 'Na+', 'C3H3+', 'CH4N+', 'Si+', 'Al+', 'C4H7+', 'C2H6N+', 'C2H5+', 'C+', '29Si+', '6Li+', 'C2H8N+', 'Mg+', 'C+', 'C4H5+', 'OH3+', 'OH3+', 'Si+', 'SiOH+', 'C2H6N+', 'Si2+', 'K+', 'OCH3+', 'Fe+', 'CH3+', 'Al+', 'Na2OH+', 'Mg+', 'Si+', 'C6H5+', '25Mg+', 'Ca+', 'Fe+', 'Na2NO2+', 'C2H6N+', '41K+', '25Mg+', 'Na2O+', 'Na2+', 'Ca+', 'Ca+', 'CH3+', 'OCH3+', 'Na2O+', 'C2H3+', '30Si+', 'C4H5+', 'C4H5+', '25Mg+', '29Si+', 'NH4+', 'Na2OH+', 'K+', 'Na2O+', '41K+', 'Ca++', 'C4H9+', 'C7H7+', 'CaOH+', 'CaOH+', 'Li+', 'Mg+', 'SiOH+', 'SiC3H9+', 'SiOH+', 'C3H7+', 'C4H10NO+', 'Na+', 'Ca+', 'C4H8N+', 'SiC3H9+', 'Si2+', 'Na2NO2+', 'C3H5+', '41K+', 'SiC3H9+', '30Si+', 'C2H8N+', 'B+', '29Si+', '41K+', 'C4H8N+', 'C4H5+', 'C6H5+', 'H+', 'C7H7+', 'Si+', 'Na2O+', 'C4H5+', '25Mg+', 'C4H8N+', 'Li+', 'Si+', '6Li+', 'OH3+', 'C3H5+', 'C2H8N+', '29Si+', 'Na2OH+', 'CaOH+', 'Na2O+', '6Li+', 'C2H6N+', 'C4H7+', 'Ca+', 'C7H7+', 'Fe+', 'H+', 'C7H7+', '41K+', 'H2+', 'C4H10NO+', 'NH4+', 'Ca+', 'C4H10NO+', 'Si+', 'CaOH+', '41K+', 'C3H7+', 'Mg+', 'C4H7+', 'Fe+', '26Mg+', 'C2H6N+', '29Si+', 'CH4N+', 'CH4N+', 'Na+', 'OCH3+', 'NH4+', '25Mg+', '41K+', 'C4H10NO+', '25Mg+', 'C3H3+', 'C3H5+', 'CH3+', 'Fe+', 'B+', 'C3H7+', 'OH3+', 'Li+', 'CH3+', 'C7H7+', 'OCH3+', 'C7H7+', 'H2+', '26Mg+', 'Na2O+', 'C4H7+', 'SiOH+', 'Na+', 'C2H6N+', 'CH3+', 'Mg+', 'K+', 'C2H6N+', 'Na+', 'C2H5O+', '25Mg+', 'C4H7+', 'Si+', 'C3H5+', 'C3H6N+', 'Si+', 'OCH3+', 'SiC3H9+', 'C6H5+', 'SiC3H9+', 'C2H3+', 'Fe+', '6Li+', 'OCH3+', 'K+', 'C2H3+', '29Si+', 'SiC3H9+', 'C2H8N+', 'Na+', '41K+', 'K+', '41K+', 'K+', 'C3H3+', 'Fe+', 'OH3+', '29Si+', 'C4H8N+', 'OH3+', 'C6H5+', 'Na2NO2+', 'C2H6N+', 'C2H6N+', 'C3H7+', 'Al+', 'SiC3H9+', 'CH4N+', 'OH3+', 'C4H10NO+', 'Ca+', '6Li+', 'Na2+', 'SiOH+', 'C5H12N+', 'C4H10NO+', 'C2H6N+', '41K+', '25Mg+', 'OH3+', 'Na+', 'Ca++', 'C7H7+', 'SiOH+', 'C+', 'OCH3+', '25Mg+', 'C4H8N+', 'C6H5+', 'Na2NO2+', 'C5H12N+', '26Mg+', 'CH4N+', 'Na+', 'C3H6N+', 'Na+', 'Na2OH+', 'CH4N+', 'CaOH+', '26Mg+', 'NH4+', 'H+', 'C6H5+', 'C2H8N+', 'C4H8N+', '26Mg+', 'Ca+', 'Si+', 'C3H3+', 'C2H8N+', 'C5H12N+', 'H2+', 'CH3+', 'C+', 'CaOH+', 'C+', '6Li+', 'Ca++', 'Fe+', 'C2H5+', 'C2H6N+', 'CH4N+', 'C2H5O+', 'C4H5+', 'Al+', 'Li+', 'CH4N+', 'C6H5+', 'Mg+', '26Mg+', 'C+', '30Si+', 'Mg+', '6Li+', 'Na2NO2+', 'Na+', 'C4H7+', '25Mg+', 'C4H10NO+', 'C+', 'C2H5O+', 'Na+', 'C+', 'Ca+', 'C4H7+', 'Mg+', 'H+', 'Na2NO2+', 'Mg+', 'C3H7+', 'C7H7+', 'C2H5+', 'Na+', 'Si2+', 'C3H7+', 'CH3+', 'OH3+', 'CH3+', 'CH4N+', 'CaOH+', 'CH4N+', 'C3H5+', 'Si+', 'C4H7+', 'Na2+', 'H+', 'C2H5+', 'H2+', 'Na2OH+', 'K+', 'C4H5+', 'OCH3+', 'CaOH+', 'C4H10NO+', 'C4H5+', 'C4H5+', 'C3H5+', 'C4H9+', 'C3H7+', 'C4H8N+', '6Li+', '26Mg+', 'Ca++', '6Li+', 'NH4+', 'H2+', 'C7H7+', 'Na2OH+', 'Na2O+', 'C4H7+', 'C3H7+', 'C2H5O+', '29Si+', 'C2H6N+', '29Si+', 'C3H5+', 'Al+', 'K+', 'Na2OH+', 'K+', 'CaOH+', 'Si+', 'H2+', 'CaOH+', 'CH3+', 'C6H5+', 'C3H5+', 'Fe+', 'C4H10NO+', 'C4H9+', 'C3H6N+', 'Al+', 'C4H7+', 'H2+', 'CH3+', 'Mg+', '41K+', 'Si+', 'C4H8N+', 'C3H3+', 'C2H5+', 'C3H6N+', 'Si+', 'C2H6N+', 'C2H5O+', '30Si+', '41K+', 'C2H8N+', 'SiOH+', 'C4H10NO+', 'Na2OH+', 'H+', 'C3H7+', 'C4H8N+', '29Si+', 'SiC3H9+', 'C3H7+', 'C6H5+', 'C3H3+', 'CH3+', 'C3H7+', 'SiOH+', 'H2+', 'SiC3H9+', 'C2H8N+', 'NH4+', 'Fe+', 'Si2+', 'K+', 'C7H7+', 'Na2NO2+', 'C2H6N+', 'SiC3H9+', 'C2H3+', 'C2H3+', 'C2H6N+', 'Na2OH+']\n",
      "\n",
      "Actual: \n",
      " ['Na2O+', 'C2H3+', 'C5H12N+', 'OH3+', 'K+', 'SiC3H9+', '29Si+', 'Mg+', 'Na2O+', 'NH4+', 'C4H7+', 'Na2+', 'Mg+', 'OCH3+', 'C7H7+', 'Na2+', '41K+', '30Si+', 'C3H6N+', 'CaOH+', 'Li+', 'C4H9+', 'B+', 'C4H8N+', 'SiC3H9+', 'CaOH+', 'C4H9+', 'C4H8N+', 'C4H5+', 'Li+', 'C+', 'Ca+', 'B+', 'C4H10NO+', 'CH3+', 'Na2+', 'CH4N+', 'Na2+', '6Li+', 'Si+', 'C4H10NO+', '25Mg+', 'B+', '41K+', 'C2H3+', 'CaOH+', 'C4H10NO+', 'OH3+', 'C5H12N+', 'C2H3+', 'Na2OH+', 'C5H12N+', 'OH3+', 'C2H5+', 'K+', 'Ca++', 'Na2OH+', 'C4H10NO+', '41K+', 'CH4N+', 'C2H8N+', 'SiC3H9+', 'C2H8N+', '41K+', 'OH3+', '25Mg+', 'Na+', 'Na2O+', 'C4H7+', 'Ca++', 'C3H6N+', 'CH3+', 'K+', 'CH3+', 'CH4N+', '29Si+', 'H2+', 'B+', 'Na2O+', 'C2H5+', 'CH3+', 'C3H6N+', 'C4H5+', '29Si+', '30Si+', '41K+', 'C3H3+', 'K+', 'SiC3H9+', 'C3H6N+', 'Na+', 'OH3+', '41K+', 'Fe+', 'C3H7+', 'C2H8N+', 'Si+', 'OCH3+', 'SiC3H9+', 'SiOH+', 'Si+', 'Na2O+', 'CH3+', 'Na+', 'C3H6N+', 'C2H5+', 'C2H3+', 'C2H5O+', '26Mg+', '41K+', 'CaOH+', 'SiC3H9+', 'C7H7+', '30Si+', 'K+', 'Si2+', 'C3H7+', 'H+', 'Na2O+', 'C2H6N+', 'Si2+', 'Mg+', 'C4H10NO+', 'Ca++', 'NH4+', '29Si+', 'H2+', 'C2H3+', 'C3H7+', 'C4H10NO+', 'C2H8N+', 'CaOH+', 'Na2O+', 'C6H5+', 'C4H10NO+', 'Ca++', 'SiC3H9+', 'Al+', 'C2H5O+', 'C4H10NO+', 'Na2+', 'C2H8N+', 'Si+', 'OCH3+', 'SiC3H9+', 'C4H7+', 'OCH3+', 'C4H8N+', 'CH4N+', 'C2H6N+', 'C4H5+', 'OH3+', 'SiC3H9+', 'K+', 'Ca+', 'C7H7+', 'Mg+', 'H2+', 'SiC3H9+', 'C+', 'NH4+', 'Si+', 'Na2OH+', 'C2H6N+', 'C2H3+', 'C2H5+', 'C3H6N+', 'Na2+', 'C4H7+', 'Si+', 'C4H8N+', 'Na2NO2+', 'Si2+', 'K+', 'CH4N+', 'Na2+', 'C2H5+', 'C5H12N+', 'OH3+', 'C3H6N+', 'Ca++', 'OCH3+', 'Si2+', 'CaOH+', 'Na2O+', 'CaOH+', 'CH4N+', '41K+', 'Si2+', 'Na2O+', 'C4H9+', 'CH4N+', 'OH3+', 'Al+', 'C3H7+', 'Li+', 'C2H3+', '6Li+', 'K+', 'C+', 'C+', '29Si+', 'C3H6N+', 'SiOH+', '25Mg+', 'C2H6N+', 'CH3+', 'C6H5+', 'C+', 'Si+', 'C+', '41K+', 'CH4N+', 'CaOH+', 'C3H6N+', 'C3H5+', 'Si2+', 'C2H3+', 'OCH3+', '29Si+', 'K+', 'SiOH+', 'Al+', 'H+', 'C+', 'C3H3+', 'C4H5+', 'C4H9+', 'NH4+', 'C2H8N+', '29Si+', 'SiOH+', 'C2H3+', 'C5H12N+', 'C2H6N+', '30Si+', '41K+', 'Si+', 'CH3+', 'C4H9+', 'Ca+', 'CH3+', 'SiC3H9+', 'OCH3+', 'OCH3+', 'Na2OH+', 'Si2+', 'Na2OH+', 'Na2O+', 'CH4N+', 'B+', 'C4H7+', '25Mg+', 'C2H3+', 'C7H7+', 'CaOH+', 'OCH3+', 'H2+', 'C5H12N+', 'C2H6N+', 'C3H3+', 'Si2+', 'C2H5+', '29Si+', 'C2H6N+', 'C3H7+', 'C4H8N+', 'C4H9+', 'Na+', '41K+', 'C5H12N+', 'C4H5+', '6Li+', 'C4H9+', 'C2H8N+', 'OCH3+', '25Mg+', 'CH4N+', '29Si+', 'OH3+', 'Mg+', 'Na2OH+', 'C3H3+', 'C3H7+', 'Si+', 'B+', 'C7H7+', '25Mg+', 'C4H7+', 'C3H3+', 'Na2OH+', 'CH4N+', 'C4H5+', 'Na2+', 'C2H5+', 'C3H5+', 'Ca++', 'H+', 'OH3+', 'Na2NO2+', 'Na+', 'OH3+', 'C3H6N+', 'Fe+', 'Na2O+', 'C4H10NO+', 'Fe+', 'Al+', 'C2H3+', 'C6H5+', 'CH3+', 'C4H5+', 'C4H7+', 'Na2+', 'SiOH+', 'C4H7+', 'C4H5+', 'Fe+', '26Mg+', '25Mg+', 'C7H7+', 'CH4N+', 'C5H12N+', 'C6H5+', '6Li+', 'Na2+', 'Fe+', '41K+', 'Na+', 'C3H7+', 'C4H8N+', 'SiC3H9+', 'Fe+', 'C4H8N+', 'Li+', 'SiOH+', 'H+', 'C6H5+', 'C+', 'Na+', 'Mg+', 'C2H5O+', 'C4H8N+', 'C2H5+', '29Si+', 'H2+', 'K+', 'C4H7+', 'Al+', 'C4H10NO+', 'C6H5+', 'Fe+', 'C4H10NO+', 'C7H7+', 'K+', 'SiOH+', 'CH4N+', 'Na2OH+', 'H+', 'C2H5O+', 'Si2+', 'C4H7+', 'Mg+', 'OCH3+', 'OCH3+', 'C3H7+', 'CH4N+', 'Ca++', 'C2H5+', 'Na2O+', 'C2H3+', 'C7H7+', 'Na+', 'B+', 'C4H9+', '26Mg+', 'C2H5O+', '29Si+', 'CH3+', 'C3H3+', 'OCH3+', '41K+', 'Si+', 'C2H5+', 'C3H6N+', 'CH3+', 'SiOH+', 'C7H7+', 'C4H7+', 'K+', 'SiC3H9+', 'H+', 'K+', '41K+', 'H+', 'B+', 'C3H3+', 'C7H7+', 'C2H6N+', 'Si+', 'C7H7+', 'Ca++', 'C4H10NO+', 'C4H8N+', 'Si+', 'Na2NO2+', 'NH4+', 'Na2O+', 'H+', 'Ca+', 'Mg+', 'C7H7+', 'Si+', 'C4H9+', 'C4H10NO+', 'C3H3+', 'Ca+', 'C3H5+', '6Li+', 'NH4+', 'C3H6N+', 'Ca++', 'Na+', 'CH4N+', '25Mg+', 'Na2+', 'B+', 'H+', 'Na2+', 'C4H9+', '41K+', 'Na+', 'Al+', 'Na2O+', 'Al+', 'C+', 'Si+', 'C3H7+', 'C+', 'C2H8N+', 'Ca++', 'OH3+', 'Al+', '25Mg+', 'C3H7+', 'Na2OH+', 'SiOH+', 'C7H7+', 'Ca++', 'Na2O+', '25Mg+', 'C4H5+', 'C2H5+', '6Li+', 'C4H10NO+', 'C4H7+', 'K+', 'C2H5O+', 'Na2OH+', 'Mg+', 'Ca+', 'C2H3+', 'CH4N+', 'C3H7+', 'C3H5+', 'Si2+', 'C5H12N+', 'OH3+', 'Si2+', 'C2H8N+', 'C2H8N+', 'C3H7+', 'B+', '25Mg+', 'C3H3+', 'C+', 'C3H5+', 'C2H5O+', '41K+', 'Na2OH+', 'K+', 'C2H8N+', 'C3H7+', 'C4H9+', 'Ca+', '41K+', 'C2H6N+', 'Na2+', 'C2H8N+', 'CaOH+', 'SiC3H9+', 'C5H12N+', 'C+', 'NH4+', 'Na2+', 'CH3+', 'Ca++', 'CH4N+', 'Si+', '30Si+', 'Ca++', 'Na2NO2+', 'C3H7+', 'Si+', 'SiC3H9+', 'Na+', 'Na2+', '25Mg+', 'C4H10NO+', 'Ca++', '30Si+', 'CaOH+', 'K+', 'C+', 'Ca++', 'OCH3+', 'C2H6N+', 'Na2OH+', 'C7H7+', 'C4H10NO+', 'C4H8N+', '29Si+', 'C2H8N+', 'Ca++', 'Na2O+', '6Li+', 'H2+', 'C4H9+', 'C2H5+', 'C3H5+', 'Fe+', 'C3H5+', 'C4H7+', '6Li+', 'C4H8N+', 'OH3+', '6Li+', '29Si+', 'K+', 'C4H9+', 'C+', 'C2H8N+', 'OCH3+', 'C2H3+', 'Na+', 'Li+', 'Na+', 'Na2OH+', 'Na2NO2+', 'C3H3+', 'K+', 'C6H5+', 'Na2+', 'C4H8N+', 'C3H6N+', 'NH4+', 'C2H8N+', 'C2H3+', 'C2H5+', 'Na2OH+', 'Mg+', 'C4H5+', 'C3H7+', 'CH3+', 'Na2NO2+', 'C2H5+', 'Na2+', 'CH3+', 'C+', '25Mg+', 'C+', 'C2H5O+', 'Ca+', 'Ca++', 'C4H8N+', 'C5H12N+', 'C4H5+', 'C4H5+', 'C3H6N+', 'C5H12N+', 'C3H5+', 'Na2OH+', 'C+', 'SiC3H9+', '25Mg+', 'SiOH+', 'H+', 'Li+', 'C+', 'NH4+', 'C4H9+', 'C4H5+', '6Li+', 'H+', 'SiOH+', '26Mg+', 'Al+', '25Mg+', 'C4H5+', 'Na2NO2+', 'OH3+', 'C2H5O+', 'H2+', 'Na2OH+', 'Na2O+', 'K+', 'CH3+', 'Si2+', '26Mg+', 'C5H12N+', '6Li+', '6Li+', 'Li+', 'C2H5O+', 'Na+', 'C3H3+', 'CH4N+', 'Si+', 'Al+', 'C4H7+', 'C2H6N+', 'C2H5+', 'C+', '29Si+', '6Li+', 'C2H8N+', 'Mg+', 'C+', 'C4H5+', 'OH3+', 'OH3+', 'Si+', 'SiOH+', 'C2H6N+', 'Si2+', 'K+', 'OCH3+', 'Fe+', 'CH3+', 'Al+', 'Na2OH+', 'Mg+', 'Si+', 'C6H5+', '25Mg+', 'Ca+', 'Si2+', 'Na2NO2+', 'C2H6N+', '41K+', '25Mg+', 'Na2O+', 'Na2+', 'Ca+', 'Ca+', 'CH3+', 'OCH3+', 'Na2O+', 'C2H3+', '30Si+', 'C4H5+', 'C4H5+', '25Mg+', '29Si+', 'NH4+', 'Na2OH+', 'K+', 'Na2O+', '41K+', 'Ca++', 'C4H9+', 'C7H7+', 'CaOH+', 'CaOH+', 'Li+', 'Mg+', 'SiOH+', 'SiC3H9+', 'SiOH+', 'C3H7+', 'C4H10NO+', 'Na+', 'Ca+', 'C4H8N+', 'SiC3H9+', 'Si2+', 'Na2NO2+', 'C3H5+', '41K+', 'SiC3H9+', '30Si+', 'C2H8N+', 'B+', '29Si+', '41K+', 'C4H8N+', 'C4H5+', 'C6H5+', 'H+', 'C7H7+', 'Si+', 'Na2O+', 'C4H5+', '25Mg+', 'C4H8N+', 'Li+', 'Si+', '6Li+', 'OH3+', 'C3H5+', 'C2H8N+', '29Si+', 'Na2OH+', 'CaOH+', 'Na2O+', '6Li+', 'C2H6N+', 'C4H7+', 'Ca+', 'C7H7+', 'Fe+', 'H+', 'C7H7+', '41K+', 'H2+', 'C4H10NO+', 'NH4+', 'Ca+', 'C4H10NO+', 'Si+', 'CaOH+', '41K+', 'C3H7+', 'Mg+', 'C4H7+', 'Fe+', '26Mg+', 'C2H6N+', '29Si+', 'CH4N+', 'CH4N+', 'Na+', 'OCH3+', 'NH4+', '25Mg+', '41K+', 'C4H10NO+', '25Mg+', 'C3H3+', 'C3H5+', 'CH3+', 'Fe+', 'B+', 'C3H7+', 'OH3+', 'Li+', 'CH3+', 'C7H7+', 'OCH3+', 'C7H7+', 'H2+', '26Mg+', 'Na2O+', 'C4H7+', 'SiOH+', 'Na+', 'C2H6N+', 'CH3+', 'Mg+', 'K+', 'C2H6N+', 'Na+', 'C2H5O+', '25Mg+', 'C4H7+', 'Si+', 'C3H5+', 'C3H6N+', 'Si+', 'OCH3+', 'SiC3H9+', 'C6H5+', 'SiC3H9+', 'C2H3+', 'Fe+', '6Li+', 'OCH3+', 'K+', 'C2H3+', '29Si+', 'SiC3H9+', 'C2H8N+', 'Na+', '41K+', 'K+', '41K+', 'K+', 'C3H3+', 'Fe+', 'OH3+', '29Si+', 'C4H8N+', 'OH3+', 'C6H5+', 'Na2NO2+', 'C2H6N+', 'C2H6N+', 'C3H7+', 'Al+', 'SiC3H9+', 'CH4N+', 'OH3+', 'C4H10NO+', 'Ca+', '6Li+', 'Na2+', 'SiOH+', 'C5H12N+', 'C4H10NO+', 'C2H6N+', '41K+', '25Mg+', 'OH3+', 'Na+', 'Ca++', 'C7H7+', 'SiOH+', 'C+', 'OCH3+', '25Mg+', 'C4H8N+', 'C6H5+', 'Na2NO2+', 'C5H12N+', '26Mg+', 'CH4N+', 'Na+', 'C3H6N+', 'Na+', 'Na2OH+', 'CH4N+', 'CaOH+', '26Mg+', 'NH4+', 'H+', 'C6H5+', 'C2H8N+', 'C4H8N+', '26Mg+', 'Ca+', 'Si+', 'C3H3+', 'C2H8N+', 'C5H12N+', 'H2+', 'CH3+', 'C+', 'CaOH+', 'C+', '6Li+', 'Ca++', 'Fe+', 'C2H5+', 'C2H6N+', 'CH4N+', 'C2H5O+', 'C4H5+', 'Al+', 'Li+', 'CH4N+', 'C6H5+', 'Mg+', '26Mg+', 'C+', '30Si+', 'Mg+', '6Li+', 'Na2NO2+', 'Na+', 'C4H7+', '25Mg+', 'C4H10NO+', 'C+', 'C2H5O+', 'Na+', 'C+', 'Ca+', 'C4H7+', 'Mg+', 'H+', 'Na2NO2+', 'Mg+', 'C3H7+', 'C7H7+', 'C2H5+', 'Na+', 'Si2+', 'C3H7+', 'CH3+', 'OH3+', 'CH3+', 'CH4N+', 'CaOH+', 'CH4N+', 'C3H5+', 'Si+', 'C4H7+', 'Na2+', 'H+', 'C2H5+', 'H2+', 'Na2OH+', 'K+', 'C4H5+', 'OCH3+', 'CaOH+', 'C4H10NO+', 'C4H5+', 'C4H5+', 'C3H5+', 'C4H9+', 'C3H7+', 'C4H8N+', '6Li+', '26Mg+', 'Ca++', '6Li+', 'NH4+', 'H2+', 'C7H7+', 'Na2OH+', 'Na2O+', 'C4H7+', 'C3H7+', 'C2H5O+', '29Si+', 'C2H6N+', '29Si+', 'C3H5+', 'Al+', 'K+', 'Na2OH+', 'K+', 'CaOH+', 'Si+', 'H2+', 'CaOH+', 'CH3+', 'C6H5+', 'C3H5+', 'Fe+', 'C4H10NO+', 'C4H9+', 'C3H6N+', 'Al+', 'C4H7+', 'H2+', 'CH3+', 'Mg+', '41K+', 'Si+', 'C4H8N+', 'C3H3+', 'C2H5+', 'C3H6N+', 'Si+', 'C2H6N+', 'C2H5O+', '30Si+', '41K+', 'C2H8N+', 'SiOH+', 'C4H10NO+', 'Na2OH+', 'H+', 'C3H7+', 'C4H8N+', '29Si+', 'SiC3H9+', 'C3H7+', 'C6H5+', 'C3H3+', 'CH3+', 'C3H7+', 'SiOH+', 'H2+', 'SiC3H9+', 'C2H8N+', 'NH4+', 'Fe+', 'Si2+', 'K+', 'C7H7+', 'Na2NO2+', 'C2H6N+', 'SiC3H9+', 'C2H3+', 'C2H3+', 'C2H6N+', 'Na2OH+']\n",
      "\n",
      "Classification Accuracy:  99.7%\n"
     ]
    }
   ],
   "source": [
    "# Now let's compare our array with the real labels and determine the classification accuracy of the Gaussian Process\n",
    "y_pred = np.argmax(rel_prob_matrix, 1)\n",
    "species_pred = [data.at[y, 'Species'] for y in y_pred]\n",
    "species_act = [data.at[y, 'Species'] for y in y_data]\n",
    "\n",
    "print(\"\\nPredicted: \\n\", species_pred)\n",
    "print(\"\\nActual: \\n\", species_act)\n",
    "\n",
    "class_acc = (y_pred == y_data).mean()*100\n",
    "print(\"\\nClassification Accuracy: \", str(class_acc) + \"%\")"
   ]
  },
  {
   "cell_type": "code",
   "execution_count": 52,
   "metadata": {},
   "outputs": [
    {
     "name": "stdout",
     "output_type": "stream",
     "text": [
      "\n",
      "Incorrect Predictions: \n",
      " ['Fe+' 'Fe+' 'Fe+']\n",
      "\n",
      "Correct Species: \n",
      " ['Si2+' 'Si2+' 'Si2+']\n",
      "\n",
      "Indices of Incorrect Predictions: \n",
      " [261, 607, 646]\n"
     ]
    }
   ],
   "source": [
    "# Show some incorrect classifications and what they should be\n",
    "y_pred, y_data, species_pred, species_act = np.array(y_pred), np.array(y_data), np.array(species_pred), np.array(species_act)\n",
    "prediction_mask = (y_pred != y_data)\n",
    "\n",
    "print(\"\\nIncorrect Predictions: \\n\", species_pred[prediction_mask])\n",
    "print(\"\\nCorrect Species: \\n\", species_act[prediction_mask])\n",
    "\n",
    "print(\"\\nIndices of Incorrect Predictions: \\n\", [i for i in range(len(prediction_mask)) if prediction_mask[i]])"
   ]
  },
  {
   "cell_type": "code",
   "execution_count": null,
   "metadata": {},
   "outputs": [],
   "source": []
  }
 ],
 "metadata": {
  "kernelspec": {
   "display_name": "venv",
   "language": "python",
   "name": "venv"
  },
  "language_info": {
   "codemirror_mode": {
    "name": "ipython",
    "version": 3
   },
   "file_extension": ".py",
   "mimetype": "text/x-python",
   "name": "python",
   "nbconvert_exporter": "python",
   "pygments_lexer": "ipython3",
   "version": "3.10.6"
  },
  "orig_nbformat": 4
 },
 "nbformat": 4,
 "nbformat_minor": 2
}
