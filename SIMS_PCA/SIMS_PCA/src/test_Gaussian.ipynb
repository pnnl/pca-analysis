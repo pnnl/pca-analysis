{
 "cells": [
  {
   "cell_type": "code",
   "execution_count": 1,
   "metadata": {},
   "outputs": [],
   "source": [
    "%matplotlib inline\n",
    "\n",
    "import numpy as np\n",
    "import matplotlib.pyplot as plt\n",
    "import pandas as pd\n",
    "from scipy.stats import norm"
   ]
  },
  {
   "cell_type": "code",
   "execution_count": 2,
   "metadata": {},
   "outputs": [],
   "source": [
    "# Get the mass vs. species data\n",
    "data = pd.read_csv(\"train_data.csv\")"
   ]
  },
  {
   "cell_type": "code",
   "execution_count": 3,
   "metadata": {},
   "outputs": [
    {
     "name": "stdout",
     "output_type": "stream",
     "text": [
      "Num output classes:  48\n"
     ]
    }
   ],
   "source": [
    "# ----------------------------Generate training data----------------------------\n",
    "training_size = 100\n",
    "# Get how many classes we need from the original data\n",
    "output_dim = data.shape[0]\n",
    "print(\"Num output classes: \", output_dim)\n",
    "\n",
    "# Select a bunch of random rows in the data\n",
    "np.random.seed(2)\n",
    "masses = []\n",
    "species = []\n",
    "for i in range(training_size):\n",
    "    rand_index = np.random.randint(output_dim)\n",
    "    masses.append(data.at[rand_index, \"Precise Mass\"])\n",
    "    # Use one-hot encodig of species strings to integers.\n",
    "    species.append(rand_index)\n",
    "masses = np.array(masses)\n",
    "\n",
    "# Generate noise for the same number of rows'\n",
    "noise = 1e-6 * np.random.standard_normal(size = training_size)\n",
    "\n",
    "# Combine the noise and randomly selected masses to create our training data\n",
    "x_data = masses + noise*masses\n",
    "y_data = species\n",
    "# print(\"x_data: \", x_data)\n",
    "# print(\"y_data: \", y_data)"
   ]
  },
  {
   "cell_type": "code",
   "execution_count": 4,
   "metadata": {},
   "outputs": [
    {
     "name": "stdout",
     "output_type": "stream",
     "text": [
      "[[ 1.0084  2.0147 12.0005 ... 96.9696 42.977  42.9996]\n",
      " [ 1.0084  2.0147 12.0005 ... 96.9696 42.977  42.9996]\n",
      " [ 1.0084  2.0147 12.0005 ... 96.9696 42.977  42.9996]\n",
      " ...\n",
      " [ 1.0084  2.0147 12.0005 ... 96.9696 42.977  42.9996]\n",
      " [ 1.0084  2.0147 12.0005 ... 96.9696 42.977  42.9996]\n",
      " [ 1.0084  2.0147 12.0005 ... 96.9696 42.977  42.9996]]\n"
     ]
    }
   ],
   "source": [
    "# Make the known species masses into a row, then repeat for the length of the training data to prepare for mass array operations\n",
    "# in the next cell\n",
    "precise_masses = np.reshape(np.array(data[\"Precise Mass\"]), (1,-1))\n",
    "precise_masses = precise_masses.repeat(training_size,0)\n",
    "print(precise_masses)"
   ]
  },
  {
   "cell_type": "code",
   "execution_count": 5,
   "metadata": {},
   "outputs": [
    {
     "name": "stdout",
     "output_type": "stream",
     "text": [
      "[0.00000000e+00 0.00000000e+00 0.00000000e+00 0.00000000e+00\n",
      " 0.00000000e+00 0.00000000e+00 0.00000000e+00 0.00000000e+00\n",
      " 0.00000000e+00 0.00000000e+00 0.00000000e+00 0.00000000e+00\n",
      " 0.00000000e+00 0.00000000e+00 0.00000000e+00 0.00000000e+00\n",
      " 0.00000000e+00 0.00000000e+00 0.00000000e+00 0.00000000e+00\n",
      " 0.00000000e+00 0.00000000e+00 0.00000000e+00 0.00000000e+00\n",
      " 0.00000000e+00 0.00000000e+00 0.00000000e+00 0.00000000e+00\n",
      " 0.00000000e+00 0.00000000e+00 0.00000000e+00 0.00000000e+00\n",
      " 0.00000000e+00 0.00000000e+00 0.00000000e+00 0.00000000e+00\n",
      " 0.00000000e+00 0.00000000e+00 0.00000000e+00 0.00000000e+00\n",
      " 1.00000000e+00 3.82224017e-70 0.00000000e+00 0.00000000e+00\n",
      " 0.00000000e+00 0.00000000e+00 0.00000000e+00 0.00000000e+00]\n"
     ]
    }
   ],
   "source": [
    "# TODO Accuracy goes down from 100% --> 0% as this uncertainty gets too small. Possibly use:\n",
    "#      1) More accurate uncertainties?\n",
    "#      2) A warning / default classification when vector becomes all 0s ([0,0,0,0,...0])?\n",
    "# Store uncertainty and unknown species to be classified\n",
    "unc = 0.001\n",
    "\n",
    "# Calculate standard deviations and resulting probabilities for each mass according to its uncertainty pdf.\n",
    "# We transform the x_data from 1 x n to n x 1, then broadcast it to n x 48 while subtracting precise_masses and dividing\n",
    "# by the uncertainty to get the number of standard deviations each measured mass is from each of the 48 known species\n",
    "# masses, then use norm.cdf to convert to probabilities.\n",
    "prob_matrix = np.zeros((training_size,len(data)))\n",
    "prob_matrix = (np.reshape(x_data, (-1,1)) - precise_masses) / unc\n",
    "prob_matrix = (norm.cdf(-abs(prob_matrix)))\n",
    "\n",
    "# Calculate relative probabilities by scaling row sum to 1\n",
    "rel_prob_matrix = 1/np.reshape(np.sum(prob_matrix,1),(-1,1)) * prob_matrix\n",
    "# Print out a particular row\n",
    "print(rel_prob_matrix[0,:])"
   ]
  },
  {
   "cell_type": "code",
   "execution_count": 6,
   "metadata": {},
   "outputs": [
    {
     "name": "stdout",
     "output_type": "stream",
     "text": [
      "Predicted:  [40 15 45  8 22 43 18 11 40  7 34 31 11 21 47 31 26 20 37 39  3 38  4 42\n",
      " 43 39 38 42 33  3  5 24  4 46  6 31 19 31  2 16 46 12  4 26 15 39 46  8\n",
      " 45 15 41 45  8 17 22  9 41 46 26 19 32 43 32 26  8 12 10 40 34  9 37  6\n",
      " 22  6 19 18  1  4 40 17  6 37 33 18 20 26 23 22 43 37 10  8 26 35 27 32\n",
      " 16 21 43 29]\n",
      "Actual:  [40, 15, 45, 8, 22, 43, 18, 11, 40, 7, 34, 31, 11, 21, 47, 31, 26, 20, 37, 39, 3, 38, 4, 42, 43, 39, 38, 42, 33, 3, 5, 24, 4, 46, 6, 31, 19, 31, 2, 16, 46, 12, 4, 26, 15, 39, 46, 8, 45, 15, 41, 45, 8, 17, 22, 9, 41, 46, 26, 19, 32, 43, 32, 26, 8, 12, 10, 40, 34, 9, 37, 6, 22, 6, 19, 18, 1, 4, 40, 17, 6, 37, 33, 18, 20, 26, 23, 22, 43, 37, 10, 8, 26, 35, 27, 32, 16, 21, 43, 29]\n",
      "Classification Accuracy:  100.0%\n"
     ]
    }
   ],
   "source": [
    "# Now let's compare our array with the real labels and determine the classification accuracy of the Gaussian Process\n",
    "y_pred = np.argmax(rel_prob_matrix, 1)\n",
    "print(\"Predicted: \", y_pred)\n",
    "print(\"Actual: \", y_data)\n",
    "\n",
    "class_acc = (y_pred == y_data).mean()*100\n",
    "print(\"Classification Accuracy: \", str(class_acc) + \"%\")"
   ]
  },
  {
   "cell_type": "code",
   "execution_count": null,
   "metadata": {},
   "outputs": [],
   "source": []
  }
 ],
 "metadata": {
  "kernelspec": {
   "display_name": "venv",
   "language": "python",
   "name": "venv"
  },
  "language_info": {
   "codemirror_mode": {
    "name": "ipython",
    "version": 3
   },
   "file_extension": ".py",
   "mimetype": "text/x-python",
   "name": "python",
   "nbconvert_exporter": "python",
   "pygments_lexer": "ipython3",
   "version": "3.10.6"
  },
  "orig_nbformat": 4
 },
 "nbformat": 4,
 "nbformat_minor": 2
}
