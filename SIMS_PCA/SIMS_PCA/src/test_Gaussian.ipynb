{
 "cells": [
  {
   "cell_type": "code",
   "execution_count": 119,
   "metadata": {},
   "outputs": [],
   "source": [
    "%matplotlib inline\n",
    "\n",
    "import numpy as np\n",
    "import matplotlib.pyplot as plt\n",
    "import pandas as pd\n",
    "from scipy.stats import norm"
   ]
  },
  {
   "cell_type": "code",
   "execution_count": 120,
   "metadata": {},
   "outputs": [],
   "source": [
    "# Get the mass vs. species data\n",
    "data = pd.read_csv(\"train_data.csv\")"
   ]
  },
  {
   "cell_type": "code",
   "execution_count": 121,
   "metadata": {},
   "outputs": [
    {
     "name": "stdout",
     "output_type": "stream",
     "text": [
      "Num output classes:  97\n"
     ]
    }
   ],
   "source": [
    "# ----------------------------Generate testing data----------------------------\n",
    "test_size = 100\n",
    "# Get how many classes we need from the original data\n",
    "output_dim = data.shape[0]\n",
    "print(\"Num output classes: \", output_dim)\n",
    "\n",
    "# Select a bunch of random rows in the data\n",
    "np.random.seed(2)\n",
    "masses = []\n",
    "species = []\n",
    "for i in range(test_size):\n",
    "    rand_index = np.random.randint(output_dim)\n",
    "    masses.append(data.at[rand_index, \"Precise Mass\"])\n",
    "    # Use one-hot encodig of species strings to integers.\n",
    "    species.append(rand_index)\n",
    "masses = np.array(masses)\n",
    "\n",
    "# TODO Accuracy goes down from 100% --> 0% as this uncertainty gets too small. Possibly use:\n",
    "#      1) More accurate uncertainties?\n",
    "#      2) A warning / default classification when vector becomes all 0s ([0,0,0,0,...0])?\n",
    "# Generate noise for the same number of rows'. Multiply by an uncertainty factor representative of real data noise (e.g., usually around 10-100 ppm, or 1e-5 to 1e-4).\n",
    "unc = 1e-4\n",
    "noise = unc * np.random.standard_normal(size = test_size)\n",
    "\n",
    "# Combine the noise and randomly selected masses to create our training data\n",
    "x_data = masses + noise*masses\n",
    "y_data = species\n",
    "# print(\"x_data: \", x_data)\n",
    "# print(\"y_data: \", y_data)"
   ]
  },
  {
   "cell_type": "code",
   "execution_count": 122,
   "metadata": {},
   "outputs": [
    {
     "name": "stdout",
     "output_type": "stream",
     "text": [
      "[[ 1.0084  2.0147 12.0005 ... 88.0757 91.0543 91.9719]\n",
      " [ 1.0084  2.0147 12.0005 ... 88.0757 91.0543 91.9719]\n",
      " [ 1.0084  2.0147 12.0005 ... 88.0757 91.0543 91.9719]\n",
      " ...\n",
      " [ 1.0084  2.0147 12.0005 ... 88.0757 91.0543 91.9719]\n",
      " [ 1.0084  2.0147 12.0005 ... 88.0757 91.0543 91.9719]\n",
      " [ 1.0084  2.0147 12.0005 ... 88.0757 91.0543 91.9719]]\n"
     ]
    }
   ],
   "source": [
    "# Make the known species masses into a row, then repeat for the length of the training data to prepare for mass array operations\n",
    "# in the next cell\n",
    "precise_masses = np.reshape(np.array(data[\"Precise Mass\"]), (1,-1))\n",
    "precise_masses = precise_masses.repeat(test_size,0)\n",
    "print(precise_masses)"
   ]
  },
  {
   "cell_type": "code",
   "execution_count": 123,
   "metadata": {},
   "outputs": [
    {
     "name": "stdout",
     "output_type": "stream",
     "text": [
      "[[0.     0.     0.     0.     0.     0.     0.     0.     0.     0.\n",
      "  0.     0.     0.     0.     0.     0.     0.     0.     0.     0.\n",
      "  0.     0.     0.     0.     0.     0.     0.     0.     0.     0.\n",
      "  0.     0.     0.     0.     0.     0.     0.     0.     0.     0.\n",
      "  0.5372 0.4628 0.     0.     0.     0.     0.     0.     0.     0.\n",
      "  0.     0.     0.     0.     0.     0.     0.     0.     0.     0.\n",
      "  0.     0.     0.     0.     0.     0.     0.     0.     0.     0.\n",
      "  0.     0.     0.     0.     0.     0.     0.     0.     0.     0.\n",
      "  0.     0.     0.     0.     0.     0.     0.     0.     0.     0.\n",
      "  0.     0.     0.     0.     0.     0.     0.    ]\n",
      " [0.     0.     0.     0.     0.     0.     0.     0.     0.     0.\n",
      "  0.     0.     0.     0.     0.     1.     0.     0.     0.     0.\n",
      "  0.     0.     0.     0.     0.     0.     0.     0.     0.     0.\n",
      "  0.     0.     0.     0.     0.     0.     0.     0.     0.     0.\n",
      "  0.     0.     0.     0.     0.     0.     0.     0.     0.     0.\n",
      "  0.     0.     0.     0.     0.     0.     0.     0.     0.     0.\n",
      "  0.     0.     0.     0.     0.     0.     0.     0.     0.     0.\n",
      "  0.     0.     0.     0.     0.     0.     0.     0.     0.     0.\n",
      "  0.     0.     0.     0.     0.     0.     0.     0.     0.     0.\n",
      "  0.     0.     0.     0.     0.     0.     0.    ]\n",
      " [0.     0.     0.     0.     0.     0.     0.     0.     0.     0.\n",
      "  0.     0.     0.     0.4202 0.     0.     0.     0.     0.     0.\n",
      "  0.     0.     0.     0.     0.     0.     0.     0.     0.     0.\n",
      "  0.     0.     0.     0.     0.     0.     0.     0.     0.     0.\n",
      "  0.     0.     0.     0.     0.     0.     0.     0.     0.     0.\n",
      "  0.     0.     0.     0.     0.     0.     0.     0.     0.     0.\n",
      "  0.     0.     0.     0.     0.     0.     0.     0.     0.     0.\n",
      "  0.     0.     0.5798 0.     0.     0.     0.     0.     0.     0.\n",
      "  0.     0.     0.     0.     0.     0.     0.     0.     0.     0.\n",
      "  0.     0.     0.     0.     0.     0.     0.    ]]\n"
     ]
    }
   ],
   "source": [
    "# Calculate standard deviations and resulting probabilities for each mass according to its uncertainty pdf.\n",
    "# We transform the x_data from 1 x n to n x 1, then broadcast it to n x 48 while subtracting precise_masses and dividing\n",
    "# by the uncertainty to get the number of standard deviations each measured mass is from each of the 48 known species\n",
    "# masses, then use norm.cdf to convert to probabilities.\n",
    "prob_matrix = np.zeros((test_size,len(data)))\n",
    "prob_matrix = (np.reshape(x_data, (-1,1)) - precise_masses) / (1000 * unc)  # TODO = 1e-1. This (overall) factor currently results in 8% accuracy @ 1e-5, 98% accuracy @ 1e-3, 97% accuracy @ 1e14, and 8% accuracy @ 1e17.\n",
    "prob_matrix = (norm.cdf(-abs(prob_matrix)))\n",
    "\n",
    "# Calculate relative probabilities by scaling row sum to 1\n",
    "rel_prob_matrix = 1/np.reshape(np.sum(prob_matrix,1),(-1,1)) * prob_matrix\n",
    "# Print out rows from the relative probability matrix to give us an idea of the output\n",
    "print(np.round(rel_prob_matrix[0:3,:],4))"
   ]
  },
  {
   "cell_type": "code",
   "execution_count": 124,
   "metadata": {},
   "outputs": [
    {
     "name": "stdout",
     "output_type": "stream",
     "text": [
      "\n",
      "Predicted: \n",
      " ['O2-', 'CNO-', 'Ca+', 'SiO2H-', 'SH-', 'C4H7+', 'C3H7+', 'C2-', 'NaSO4-', 'H2+', 'C7H7+', 'C3H7+', 'C3H6N+', 'BO2-', 'C2H3+', 'SO3-', 'C4H8N+', 'AlO2-', 'C16H31O2-', 'C18H35O2-', 'CH4N+', 'O-', 'O2H-', 'Li+', 'C18H33O2-', 'SO4-', 'Na+', 'CH4N+', 'OCH3+', 'Na2O+', '30Si+', 'AlO-', 'K+', 'C7H7+', 'Fe+', 'SO3-', '29Si+', 'C2H8N+', 'B+', 'C2H6N+', '6Li+', 'O-', 'C4H8N+', 'C2H3+', 'NO2-', 'H2+', 'C18H35O2-', 'AlO-', 'C2H-', '6Li+', 'CNO-', 'C2H-', 'NO2-', 'SiO2H-', 'C3H5+', 'Ca++', 'C4H8N+', 'Al+', 'Fe+', 'Na2NO2+', 'SH-', 'FeO2-', 'C4OH-', 'C2H-', 'C2H6N+', 'Cl-', 'O2-', 'NaSO4-', '25Mg+', 'CN-', 'K+', 'C4H9+', 'K+', 'C4H-', 'OH3+', 'C4H7+', '2H-', '30Si+', 'O2-', 'C4H5+', '26Mg+', 'K+', 'C4-', 'Si2+', 'C4H8N+', 'CaOH+', 'SiO2H-', 'SH-', 'B+', '41K+', 'Ca+', 'C4H8N+', 'SiC3H9+', 'Na2NO2+', 'CO2H-', 'NH4+', 'SiO2-', 'SH-', 'C5H12N+', 'C2H8N+']\n",
      "\n",
      "Actual: \n",
      " ['O2-', 'CNO-', 'Ca+', 'SiO2H-', 'SH-', 'C4H7+', 'C3H7+', 'C2-', 'NaSO4-', 'H2+', 'C7H7+', 'C3H7+', 'C3H6N+', 'BO2-', 'C2H3+', 'SO3-', 'C4H8N+', 'AlO2-', 'C16H31O2-', 'C18H35O2-', 'CH4N+', 'O-', 'O2H-', 'Li+', 'C18H33O2-', 'SO4-', 'Na+', 'CH4N+', 'OCH3+', 'Na2O+', '30Si+', 'AlO-', 'K+', 'C7H7+', 'Fe+', 'SO3-', '29Si+', 'C2H8N+', 'B+', 'C2H6N+', '6Li+', 'O-', 'C4H8N+', 'C2H3+', 'Na2+', 'H2+', 'C18H35O2-', 'AlO-', 'C2H-', '6Li+', 'CNO-', 'C2H-', 'NO2-', 'SiO2H-', 'C3H5+', 'Ca++', 'C4H8N+', 'Al+', 'Fe+', 'Na2NO2+', 'SH-', 'FeO2-', 'C4OH-', 'C2H-', 'C2H6N+', 'Cl-', 'O2-', 'NaSO4-', '25Mg+', 'CN-', 'K+', 'C4H9+', 'K+', 'C4H-', 'OH3+', 'C4H7+', '2H-', '30Si+', 'O2-', 'C4H5+', '26Mg+', 'K+', 'C4-', 'Si2+', 'C4H8N+', 'CaOH+', 'SiO2H-', 'SH-', 'B+', '41K+', 'Ca+', 'C4H8N+', 'SiC3H9+', 'Na2NO2+', 'CO2H-', 'NH4+', 'SiO2-', 'SH-', 'C5H12N+', 'C2H8N+']\n",
      "\n",
      "Classification Accuracy:  99.0%\n"
     ]
    }
   ],
   "source": [
    "# Now let's compare our array with the real labels and determine the classification accuracy of the Gaussian Process\n",
    "y_pred = np.argmax(rel_prob_matrix, 1)\n",
    "species_pred = [data.at[y, 'Species'] for y in y_pred]\n",
    "species_act = [data.at[y, 'Species'] for y in y_data]\n",
    "\n",
    "print(\"\\nPredicted: \\n\", species_pred)\n",
    "print(\"\\nActual: \\n\", species_act)\n",
    "\n",
    "class_acc = (y_pred == y_data).mean()*100\n",
    "print(\"\\nClassification Accuracy: \", str(class_acc) + \"%\")"
   ]
  },
  {
   "cell_type": "code",
   "execution_count": 125,
   "metadata": {},
   "outputs": [
    {
     "name": "stdout",
     "output_type": "stream",
     "text": [
      "\n",
      "Incorrect Predictions: \n",
      " ['NO2-']\n",
      "\n",
      "Correct Species: \n",
      " ['Na2+']\n",
      "\n",
      "Indices of incorrect classifications: \n",
      " [44]\n"
     ]
    }
   ],
   "source": [
    "# Show some incorrect classifications and what they should be\n",
    "y_pred, y_data, species_pred, species_act = np.array(y_pred), np.array(y_data), np.array(species_pred), np.array(species_act)\n",
    "prediction_mask = (y_pred != y_data)\n",
    "\n",
    "print(\"\\nIncorrect Predictions: \\n\", species_pred[prediction_mask])\n",
    "print(\"\\nCorrect Species: \\n\", species_act[prediction_mask])\n",
    "\n",
    "print(\"\\nIndices of Incorrect Predictions: \\n\", [i for i in range(len(prediction_mask)) if prediction_mask[i]])"
   ]
  },
  {
   "cell_type": "code",
   "execution_count": null,
   "metadata": {},
   "outputs": [],
   "source": []
  }
 ],
 "metadata": {
  "kernelspec": {
   "display_name": "venv",
   "language": "python",
   "name": "venv"
  },
  "language_info": {
   "codemirror_mode": {
    "name": "ipython",
    "version": 3
   },
   "file_extension": ".py",
   "mimetype": "text/x-python",
   "name": "python",
   "nbconvert_exporter": "python",
   "pygments_lexer": "ipython3",
   "version": "3.10.6"
  },
  "orig_nbformat": 4
 },
 "nbformat": 4,
 "nbformat_minor": 2
}
