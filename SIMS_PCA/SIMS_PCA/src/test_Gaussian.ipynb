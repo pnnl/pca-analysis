{
 "cells": [
  {
   "cell_type": "code",
   "execution_count": 1,
   "metadata": {},
   "outputs": [],
   "source": [
    "%matplotlib inline\n",
    "\n",
    "import numpy as np\n",
    "import matplotlib.pyplot as plt\n",
    "import pandas as pd\n",
    "from scipy.stats import norm"
   ]
  },
  {
   "cell_type": "code",
   "execution_count": 2,
   "metadata": {},
   "outputs": [],
   "source": [
    "# Get the mass vs. species data\n",
    "data = pd.read_csv(\"train_data.csv\")"
   ]
  },
  {
   "cell_type": "code",
   "execution_count": 3,
   "metadata": {},
   "outputs": [
    {
     "name": "stdout",
     "output_type": "stream",
     "text": [
      "[0.00e+00 2.00e-04 5.00e-04 3.00e-04 3.00e-04 6.00e-04 1.00e-04 6.60e-03\n",
      " 6.50e-03 1.02e-02]\n",
      "SD of Errors:  0.0035592274442642034\n",
      "ME:  0.002530000000000543\n",
      "RMSE:  0.004366806613534225\n"
     ]
    }
   ],
   "source": [
    "# Estimate of the uncertainty from some real data\n",
    "raw_masses = np.array([1.0073,2.015,6.0151,7.0158,11.0091,12.0001,15.0229,53.032,70.0587,91.0441])\n",
    "doc_masses = np.array([1.0073,2.0152,6.0146,7.0155,11.0088,11.9995,15.023,53.0386,70.0652,91.0543])\n",
    "diffs = raw_masses - doc_masses\n",
    "print(abs(diffs))\n",
    "print(\"SD of Errors: \", np.std(abs(diffs)))\n",
    "print(\"ME: \", np.mean(abs(diffs)))\n",
    "print(\"RMSE: \", np.sqrt(np.mean(np.square((abs(diffs))))))"
   ]
  },
  {
   "cell_type": "code",
   "execution_count": 4,
   "metadata": {},
   "outputs": [
    {
     "name": "stdout",
     "output_type": "stream",
     "text": [
      "Num output classes:  49\n"
     ]
    }
   ],
   "source": [
    "# ----------------------------Generate testing data----------------------------\n",
    "test_size = 1000\n",
    "# Get how many classes we need from the original data\n",
    "output_dim = data.shape[0]\n",
    "print(\"Num output classes: \", output_dim)\n",
    "\n",
    "# Select a bunch of random rows in the data\n",
    "np.random.seed(2)\n",
    "masses = []\n",
    "species = []\n",
    "for i in range(test_size):\n",
    "    rand_index = np.random.randint(output_dim)\n",
    "    masses.append(data.at[rand_index, \"Precise Mass\"])\n",
    "    # Use one-hot encodig of species strings to integers.\n",
    "    species.append(rand_index)\n",
    "masses = np.array(masses)\n",
    "\n",
    "# TODO Accuracy goes down from 100% --> 0% as this uncertainty gets too small. Possibly use:\n",
    "#      1) More accurate uncertainties?\n",
    "#      2) A warning / default classification when vector becomes all 0s ([0,0,0,0,...0])?\n",
    "# Generate noise for the same number of rows'. Multiply by an uncertainty factor representative of real data noise (e.g., usually around 10-100 ppm, or 1e-5 to 1e-4).\n",
    "unc = 0.003\n",
    "noise = unc * np.random.standard_normal(size = test_size)\n",
    "\n",
    "# Combine the noise and randomly selected masses to create our training data\n",
    "x_data = masses + noise*masses\n",
    "y_data = species\n",
    "# print(\"x_data: \", x_data)\n",
    "# print(\"y_data: \", y_data)"
   ]
  },
  {
   "cell_type": "code",
   "execution_count": 5,
   "metadata": {},
   "outputs": [
    {
     "name": "stdout",
     "output_type": "stream",
     "text": [
      "[[ 1.0073  2.0152  6.0146 ... 88.0757 91.0543 91.9719]\n",
      " [ 1.0073  2.0152  6.0146 ... 88.0757 91.0543 91.9719]\n",
      " [ 1.0073  2.0152  6.0146 ... 88.0757 91.0543 91.9719]\n",
      " ...\n",
      " [ 1.0073  2.0152  6.0146 ... 88.0757 91.0543 91.9719]\n",
      " [ 1.0073  2.0152  6.0146 ... 88.0757 91.0543 91.9719]\n",
      " [ 1.0073  2.0152  6.0146 ... 88.0757 91.0543 91.9719]]\n"
     ]
    }
   ],
   "source": [
    "# Make the known species masses into a row, then repeat for the length of the training data to prepare for mass array operations\n",
    "# in the next cell\n",
    "precise_masses = np.reshape(np.array(data[\"Precise Mass\"]), (1,-1))\n",
    "precise_masses = precise_masses.repeat(test_size,0)\n",
    "print(precise_masses)"
   ]
  },
  {
   "cell_type": "code",
   "execution_count": 6,
   "metadata": {},
   "outputs": [
    {
     "name": "stdout",
     "output_type": "stream",
     "text": [
      "[[0.     0.     0.     0.     0.     0.     0.     0.     0.     0.\n",
      "  0.     0.     0.     0.     0.     0.     0.     0.     0.     0.\n",
      "  0.     0.     0.     0.     0.     0.     0.     0.     0.     0.\n",
      "  0.     0.     0.     0.     0.     0.     0.     0.     0.     0.\n",
      "  1.     0.     0.     0.     0.     0.     0.     0.     0.    ]\n",
      " [0.     0.     0.     0.     0.     0.     0.     0.     0.     0.\n",
      "  0.     0.     0.     0.     0.0632 0.9368 0.     0.     0.     0.\n",
      "  0.     0.     0.     0.     0.     0.     0.     0.     0.     0.\n",
      "  0.     0.     0.     0.     0.     0.     0.     0.     0.     0.\n",
      "  0.     0.     0.     0.     0.     0.     0.     0.     0.    ]\n",
      " [0.     0.     0.     0.     0.     0.     0.     0.     0.     0.\n",
      "  0.     0.     0.     0.     0.     0.     0.     0.     0.     0.\n",
      "  0.     0.     0.     0.     0.     0.     0.     0.     0.     0.\n",
      "  0.     0.     0.     0.     0.     0.     0.     0.     0.     0.\n",
      "  0.     0.     0.     0.     0.     1.     0.     0.     0.    ]]\n"
     ]
    }
   ],
   "source": [
    "# Calculate standard deviations and resulting probabilities for each mass according to its uncertainty pdf.\n",
    "# We transform the x_data from 1 x n to n x 1, then broadcast it to n x 48 while subtracting precise_masses and dividing\n",
    "# by the uncertainty to get the number of standard deviations each measured mass is from each of the 48 known species\n",
    "# masses, then use norm.cdf to convert to probabilities.\n",
    "prob_matrix = np.zeros((test_size,len(data)))\n",
    "prob_matrix = (np.reshape(x_data, (-1,1)) - precise_masses) / (10 * unc)  # TODO = 1e-1. This (overall) factor currently results in 8% accuracy @ 1e-5, 98% accuracy @ 1e-3, 97% accuracy @ 1e14, and 8% accuracy @ 1e17.\n",
    "prob_matrix = (norm.cdf(-abs(prob_matrix)))\n",
    "\n",
    "# Calculate relative probabilities by scaling row sum to 1\n",
    "rel_prob_matrix = 1/np.reshape(np.sum(prob_matrix,1),(-1,1)) * prob_matrix\n",
    "# Print out rows from the relative probability matrix to give us an idea of the output\n",
    "print(np.round(rel_prob_matrix[0:3,:],4))"
   ]
  },
  {
   "cell_type": "code",
   "execution_count": 7,
   "metadata": {},
   "outputs": [
    {
     "name": "stdout",
     "output_type": "stream",
     "text": [
      "\n",
      "Predicted: \n",
      " ['Na2O+', 'C2H3+', 'C5H12N+', 'OH3+', 'K+', 'SiC3H9+', 'C2H5+', 'Mg+', 'Na2O+', 'NH4+', 'C4H7+', 'Na2+', 'Mg+', 'OCH3+', 'C7H7+', 'C2H8N+', 'C3H5+', '30Si+', 'Fe+', 'CaOH+', 'Li+', 'C4H9+', 'B+', 'C4H8N+', 'SiC3H9+', 'CaOH+', 'C4H9+', 'C4H8N+', 'C4H5+', 'Li+', 'C+', 'Ca+', 'B+', 'C4H10NO+', 'CH3+', 'C2H8N+', 'CH4N+', 'C2H8N+', '6Li+', 'Si+', 'C4H10NO+', '25Mg+', 'B+', '41K+', 'Al+', 'CaOH+', 'C4H10NO+', 'OH3+', 'C5H12N+', 'C2H3+', 'Na2OH+', 'C5H12N+', 'OH3+', 'C2H5+', 'K+', 'Ca++', 'Na2OH+', 'C4H10NO+', '41K+', 'CH4N+', 'Na2+', 'SiC3H9+', 'C2H8N+', 'C3H5+', 'OH3+', '25Mg+', 'Na+', 'Na2O+', 'C4H7+', 'Ca++', 'C3H6N+', 'CH3+', 'K+', 'CH3+', '30Si+', 'C2H5+', 'H2+', 'B+', 'Na2O+', '29Si+', 'CH3+', 'C3H6N+', 'C4H5+', '29Si+', '30Si+', '41K+', 'C3H3+', 'K+', 'SiC3H9+', 'C3H6N+', 'Na+', 'OH3+', '41K+', 'C3H6N+', 'C3H7+', 'Na2+', 'Si+', 'OCH3+', 'SiC3H9+', 'SiOH+', 'Si+', 'Na2O+', 'CH3+', 'Na+', 'Fe+', 'C2H5+', 'Al+', 'SiOH+', '26Mg+', 'C3H5+', 'C4H9+', 'SiC3H9+', 'C7H7+', '30Si+', 'K+', 'C3H6N+', 'C3H7+', 'H+', 'Na2O+', 'C2H6N+', 'Fe+', 'Mg+', 'C4H10NO+', 'Ca++', 'NH4+', '29Si+', 'H2+', 'C2H3+', 'C3H7+', 'C4H10NO+', 'Na2+', 'CaOH+', 'Na2O+', 'C6H5+', 'C4H10NO+', 'Ca++', 'SiC3H9+', 'C2H3+', 'C2H5O+', 'C4H10NO+', 'Na2+', 'C2H8N+', 'Si+', 'OCH3+', 'SiC3H9+', 'C4H7+', 'OCH3+', 'C4H8N+', '30Si+', 'C2H6N+', 'C4H5+', 'OH3+', 'SiC3H9+', 'C3H3+', 'Ca+', 'C7H7+', 'Mg+', 'H2+', 'SiC3H9+', 'C+', 'NH4+', 'Si+', 'Na2OH+', 'C2H6N+', 'Al+', 'C2H5+', 'C3H6N+', 'C2H8N+', 'C4H7+', 'Si+', 'C4H8N+', 'Na2NO2+', 'C3H6N+', 'K+', '30Si+', 'C2H8N+', 'C2H5+', 'C5H12N+', 'OH3+', 'C3H6N+', 'Ca++', 'OCH3+', 'C3H6N+', 'CaOH+', 'Na2O+', 'CaOH+', 'CH4N+', 'C3H5+', 'Fe+', 'Na2O+', 'CaOH+', 'CH4N+', 'OH3+', 'C2H3+', 'C3H7+', 'Li+', 'C2H3+', '6Li+', 'K+', 'C+', 'C+', '29Si+', 'C3H6N+', 'C2H5O+', '25Mg+', 'C2H6N+', 'CH3+', 'C6H5+', 'C+', 'Si+', 'C+', 'C3H5+', '30Si+', 'CaOH+', 'C3H6N+', 'C3H5+', 'C3H6N+', 'Al+', 'OCH3+', 'C2H5+', 'K+', 'SiOH+', 'Al+', 'H+', 'C+', 'C3H3+', 'C4H5+', 'C4H9+', 'NH4+', 'Na2+', 'C2H5+', 'SiOH+', 'C2H3+', 'C5H12N+', 'C2H6N+', 'CH4N+', 'C3H5+', 'Si+', 'CH3+', 'C4H9+', 'Ca+', 'CH3+', 'SiC3H9+', 'OCH3+', 'OCH3+', 'Na2OH+', 'Fe+', 'Na2OH+', 'Na2O+', '30Si+', 'B+', 'C4H7+', '25Mg+', 'C2H3+', 'C7H7+', 'CaOH+', 'OCH3+', 'H2+', 'C5H12N+', 'C2H6N+', 'C3H3+', 'Fe+', 'C2H5+', '29Si+', 'C2H6N+', 'C3H7+', 'C4H8N+', 'CaOH+', 'Na+', '41K+', 'C5H12N+', 'C4H5+', '6Li+', 'C4H9+', 'C2H8N+', 'OCH3+', '25Mg+', '30Si+', '29Si+', 'OH3+', 'Mg+', 'Na2OH+', 'C3H3+', 'C3H7+', 'Si+', 'B+', 'C7H7+', '25Mg+', 'C4H7+', 'K+', 'Na2OH+', 'CH4N+', 'C4H5+', 'Na2+', 'C2H5+', 'C3H5+', 'Ca++', 'H+', 'OH3+', 'Na2NO2+', 'Na+', 'OH3+', 'C3H6N+', 'Fe+', 'Na2O+', 'C4H10NO+', 'Fe+', 'C2H3+', 'Al+', 'C6H5+', 'CH3+', 'C4H5+', 'C4H7+', 'Na2+', 'C2H5O+', 'C4H7+', 'C4H5+', 'Fe+', '26Mg+', '25Mg+', 'Na2NO2+', 'CH4N+', 'C5H12N+', 'C6H5+', '6Li+', 'Na2+', 'Fe+', '41K+', 'Na+', 'C3H7+', 'C4H8N+', 'SiC3H9+', 'Fe+', 'C4H8N+', 'Li+', 'C2H5O+', 'H+', 'C6H5+', 'C+', 'Na+', 'Mg+', 'C2H5O+', 'C4H8N+', '29Si+', '29Si+', 'H2+', 'C3H3+', 'C4H7+', 'C2H3+', 'C4H10NO+', 'C6H5+', 'Si2+', 'C4H10NO+', 'C7H7+', 'C3H3+', 'SiOH+', 'CH4N+', 'Na2OH+', 'H+', 'SiOH+', 'Fe+', 'C4H7+', 'Mg+', 'OCH3+', 'OCH3+', 'C3H7+', 'CH4N+', 'Ca++', '29Si+', 'Na2O+', 'C2H3+', 'C7H7+', 'Na+', 'B+', 'CaOH+', '26Mg+', 'SiOH+', 'C2H5+', 'CH3+', 'K+', 'OCH3+', '41K+', 'Si+', 'C2H5+', 'Fe+', 'CH3+', 'SiOH+', 'C7H7+', 'C4H7+', 'C3H3+', 'SiC3H9+', 'H+', 'C3H3+', '41K+', 'H+', 'B+', 'C3H3+', 'C7H7+', 'C2H6N+', 'Si+', 'C7H7+', 'Ca++', 'C4H10NO+', 'C4H8N+', 'Si+', 'Na2NO2+', 'NH4+', 'Na2O+', 'H+', 'Ca+', 'Mg+', 'C7H7+', 'Si+', 'C4H9+', 'C4H10NO+', 'K+', 'Ca+', 'C3H5+', '6Li+', 'NH4+', 'C3H6N+', 'Ca++', 'Na+', 'CH4N+', '25Mg+', 'C2H8N+', 'B+', 'H+', 'C2H8N+', 'CaOH+', 'C3H5+', 'Na+', 'Al+', 'Na2O+', 'Al+', 'C+', 'Si+', 'C3H7+', 'C+', 'Na2+', 'Ca++', 'OH3+', 'Al+', '25Mg+', 'C3H7+', 'Na2OH+', 'SiOH+', 'C7H7+', 'Ca++', 'Na2O+', '25Mg+', 'C4H5+', 'C2H5+', '6Li+', 'C4H10NO+', 'C4H7+', 'C3H3+', 'SiOH+', 'Na2OH+', 'Mg+', 'Ca+', 'Al+', 'CH4N+', 'C3H7+', '41K+', 'Fe+', 'C5H12N+', 'OH3+', 'Fe+', 'C2H8N+', 'Na2+', 'C3H7+', 'B+', '25Mg+', 'K+', 'C+', 'C3H5+', 'C2H5O+', '41K+', 'Na2OH+', 'K+', 'C2H8N+', 'C3H7+', 'CaOH+', 'Ca+', 'C3H5+', 'C2H6N+', 'C2H8N+', 'C2H8N+', 'C4H9+', 'SiC3H9+', 'C5H12N+', 'C+', 'NH4+', 'C2H8N+', 'CH3+', 'Ca++', '30Si+', 'Si+', '30Si+', 'Ca++', 'Na2NO2+', 'C3H7+', 'Si+', 'SiC3H9+', 'Na+', 'C2H8N+', '25Mg+', 'C4H10NO+', 'Ca++', '30Si+', 'CaOH+', 'C3H3+', 'C+', 'Ca++', 'OCH3+', 'C2H6N+', 'Na2OH+', 'C7H7+', 'C4H10NO+', 'C4H8N+', '29Si+', 'C2H8N+', 'Ca++', 'Na2O+', '6Li+', 'H2+', 'C4H9+', '29Si+', 'C3H5+', 'Fe+', 'C3H5+', 'C4H7+', '6Li+', 'C4H8N+', 'OH3+', '6Li+', '29Si+', 'K+', 'C4H9+', 'C+', 'Na2+', 'OCH3+', 'C2H3+', 'Na+', 'Li+', 'Na+', 'Na2OH+', 'Na2NO2+', 'K+', 'C3H3+', 'C6H5+', 'Na2+', 'C4H8N+', 'C3H6N+', 'NH4+', 'C2H8N+', 'C2H3+', '29Si+', 'Na2OH+', 'Mg+', 'C4H5+', 'C3H7+', 'CH3+', 'Na2NO2+', 'C2H5+', 'C2H8N+', 'CH3+', 'C+', '25Mg+', 'C+', 'SiOH+', 'Ca+', 'Ca++', 'C4H8N+', 'C5H12N+', 'C4H5+', 'C4H5+', 'Fe+', 'C5H12N+', '41K+', 'Na2OH+', 'C+', 'SiC3H9+', '25Mg+', 'SiOH+', 'H+', 'Li+', 'C+', 'NH4+', 'CaOH+', 'C4H5+', '6Li+', 'H+', 'SiOH+', '26Mg+', 'Al+', '25Mg+', 'C4H5+', 'Na2NO2+', 'OH3+', 'C2H5O+', 'H2+', 'Na2OH+', 'Na2O+', 'K+', 'CH3+', 'Fe+', '26Mg+', 'C5H12N+', '6Li+', '6Li+', 'Li+', 'SiOH+', 'Na+', 'K+', '30Si+', 'Si+', 'Al+', 'C4H7+', 'C2H6N+', '29Si+', 'C+', 'C2H5+', '6Li+', 'Na2+', 'Mg+', 'C+', 'C4H5+', 'OH3+', 'OH3+', 'Si+', 'C2H5O+', 'C2H6N+', 'C3H6N+', 'K+', 'OCH3+', 'Si2+', 'CH3+', 'Al+', 'Na2OH+', 'Mg+', 'Si+', 'C6H5+', '25Mg+', 'Ca+', 'Fe+', 'Na2NO2+', 'C2H6N+', 'C3H5+', '25Mg+', 'Na2O+', 'Na2+', 'Ca+', 'Ca+', 'CH3+', 'OCH3+', 'Na2O+', 'Al+', 'CH4N+', 'C4H5+', 'C4H5+', '25Mg+', '29Si+', 'NH4+', 'Na2OH+', 'C3H3+', 'Na2O+', '41K+', 'Ca++', 'CaOH+', 'C7H7+', 'CaOH+', 'CaOH+', 'Li+', 'Mg+', 'SiOH+', 'SiC3H9+', 'SiOH+', 'C3H7+', 'C4H10NO+', 'Na+', 'Ca+', 'C4H8N+', 'SiC3H9+', 'Fe+', 'Na2NO2+', 'C3H5+', '41K+', 'SiC3H9+', '30Si+', 'C2H8N+', 'B+', 'C2H5+', '41K+', 'C4H8N+', 'C4H5+', 'C6H5+', 'H+', 'C7H7+', 'Si+', 'Na2O+', 'C4H5+', '25Mg+', 'C4H8N+', 'Li+', 'Si+', '6Li+', 'OH3+', 'C3H5+', 'C2H8N+', '29Si+', 'Na2OH+', 'C4H9+', 'Na2O+', '6Li+', 'C2H6N+', 'C4H7+', 'Ca+', 'C7H7+', 'Fe+', 'H+', 'C7H7+', '41K+', 'H2+', 'C4H10NO+', 'NH4+', 'Ca+', 'C4H10NO+', 'Si+', 'C4H9+', '41K+', 'C3H7+', 'Mg+', 'C4H7+', 'C3H6N+', '26Mg+', 'C2H6N+', 'C2H5+', 'CH4N+', 'CH4N+', 'Na+', 'OCH3+', 'NH4+', '25Mg+', '41K+', 'C4H10NO+', '25Mg+', 'C3H3+', 'C3H5+', 'CH3+', 'C3H6N+', 'B+', 'C3H7+', 'OH3+', 'Li+', 'CH3+', 'C7H7+', 'OCH3+', 'C7H7+', 'H2+', '26Mg+', 'Na2O+', 'C4H7+', 'SiOH+', 'Na+', 'C2H6N+', 'CH3+', 'Mg+', 'C3H3+', 'C2H6N+', 'Na+', 'SiOH+', '25Mg+', 'C4H7+', 'Si+', '41K+', 'C3H6N+', 'Si+', 'OCH3+', 'SiC3H9+', 'C6H5+', 'SiC3H9+', 'Al+', 'C3H6N+', '6Li+', 'OCH3+', 'C3H3+', 'C2H3+', '29Si+', 'SiC3H9+', 'C2H8N+', 'Na+', '41K+', 'K+', '41K+', 'C3H3+', 'C3H3+', 'Fe+', 'OH3+', 'C2H5+', 'C4H8N+', 'OH3+', 'C6H5+', 'Na2NO2+', 'C2H6N+', 'C2H6N+', 'C3H7+', 'C2H3+', 'SiC3H9+', 'CH4N+', 'OH3+', 'C4H10NO+', 'Ca+', '6Li+', 'Na2+', 'SiOH+', 'C5H12N+', 'C4H10NO+', 'C2H6N+', '41K+', '25Mg+', 'OH3+', 'Na+', 'Ca++', 'C7H7+', 'SiOH+', 'C+', 'OCH3+', '25Mg+', 'C4H8N+', 'C6H5+', 'Na2NO2+', 'C5H12N+', '26Mg+', 'CH4N+', 'Na+', 'C3H6N+', 'Na+', 'Na2OH+', 'CH4N+', 'CaOH+', '26Mg+', 'NH4+', 'H+', 'C6H5+', 'C2H8N+', 'C4H8N+', '26Mg+', 'Ca+', 'Si+', 'K+', 'C2H8N+', 'C5H12N+', 'H2+', 'CH3+', 'C+', 'CaOH+', 'C+', '6Li+', 'Ca++', 'Si2+', '29Si+', 'C2H6N+', 'CH4N+', 'SiOH+', 'C4H5+', 'Al+', 'Li+', 'CH4N+', 'C6H5+', 'Mg+', '26Mg+', 'C+', '30Si+', 'Mg+', '6Li+', 'Na2NO2+', 'Na+', 'C4H7+', '25Mg+', 'C4H10NO+', 'C+', 'C2H5O+', 'Na+', 'C+', 'Ca+', 'C4H7+', 'Mg+', 'H+', 'Na2NO2+', 'Mg+', 'C3H7+', 'C7H7+', '29Si+', 'Na+', 'Si2+', 'C3H7+', 'CH3+', 'OH3+', 'CH3+', 'CH4N+', 'CaOH+', 'CH4N+', '41K+', 'Si+', 'C4H7+', 'C2H8N+', 'H+', '29Si+', 'H2+', 'Na2OH+', 'K+', 'C4H5+', 'OCH3+', 'CaOH+', 'C4H10NO+', 'C4H5+', 'C4H5+', '41K+', 'CaOH+', 'C3H7+', 'C4H8N+', '6Li+', '26Mg+', 'Ca++', '6Li+', 'NH4+', 'H2+', 'C7H7+', 'Na2OH+', 'Na2O+', 'C4H7+', 'C3H7+', 'SiOH+', 'C2H5+', 'C2H6N+', '29Si+', 'C3H5+', 'Al+', 'K+', 'Na2OH+', 'K+', 'C4H9+', 'Si+', 'H2+', 'CaOH+', 'CH3+', 'C6H5+', 'C3H5+', 'Fe+', 'C4H10NO+', 'CaOH+', 'C3H6N+', 'Al+', 'C4H7+', 'H2+', 'CH3+', 'Mg+', '41K+', 'Si+', 'C4H8N+', 'K+', '29Si+', 'C3H6N+', 'Si+', 'C2H6N+', 'SiOH+', '30Si+', 'C3H5+', 'Na2+', 'SiOH+', 'C4H10NO+', 'Na2OH+', 'H+', 'C3H7+', 'C4H8N+', '29Si+', 'SiC3H9+', 'C3H7+', 'C6H5+', 'C3H3+', 'CH3+', 'C3H7+', 'SiOH+', 'H2+', 'SiC3H9+', 'C2H8N+', 'NH4+', 'Fe+', 'Fe+', 'K+', 'C7H7+', 'Na2NO2+', 'C2H6N+', 'SiC3H9+', 'C2H3+', 'Al+', 'C2H6N+', 'Na2OH+']\n",
      "\n",
      "Actual: \n",
      " ['Na2O+', 'C2H3+', 'C5H12N+', 'OH3+', 'K+', 'SiC3H9+', '29Si+', 'Mg+', 'Na2O+', 'NH4+', 'C4H7+', 'Na2+', 'Mg+', 'OCH3+', 'C7H7+', 'Na2+', '41K+', '30Si+', 'C3H6N+', 'CaOH+', 'Li+', 'C4H9+', 'B+', 'C4H8N+', 'SiC3H9+', 'CaOH+', 'C4H9+', 'C4H8N+', 'C4H5+', 'Li+', 'C+', 'Ca+', 'B+', 'C4H10NO+', 'CH3+', 'Na2+', 'CH4N+', 'Na2+', '6Li+', 'Si+', 'C4H10NO+', '25Mg+', 'B+', '41K+', 'C2H3+', 'CaOH+', 'C4H10NO+', 'OH3+', 'C5H12N+', 'C2H3+', 'Na2OH+', 'C5H12N+', 'OH3+', 'C2H5+', 'K+', 'Ca++', 'Na2OH+', 'C4H10NO+', '41K+', 'CH4N+', 'C2H8N+', 'SiC3H9+', 'C2H8N+', '41K+', 'OH3+', '25Mg+', 'Na+', 'Na2O+', 'C4H7+', 'Ca++', 'C3H6N+', 'CH3+', 'K+', 'CH3+', 'CH4N+', '29Si+', 'H2+', 'B+', 'Na2O+', 'C2H5+', 'CH3+', 'C3H6N+', 'C4H5+', '29Si+', '30Si+', '41K+', 'C3H3+', 'K+', 'SiC3H9+', 'C3H6N+', 'Na+', 'OH3+', '41K+', 'Fe+', 'C3H7+', 'C2H8N+', 'Si+', 'OCH3+', 'SiC3H9+', 'SiOH+', 'Si+', 'Na2O+', 'CH3+', 'Na+', 'C3H6N+', 'C2H5+', 'C2H3+', 'C2H5O+', '26Mg+', '41K+', 'CaOH+', 'SiC3H9+', 'C7H7+', '30Si+', 'K+', 'Si2+', 'C3H7+', 'H+', 'Na2O+', 'C2H6N+', 'Si2+', 'Mg+', 'C4H10NO+', 'Ca++', 'NH4+', '29Si+', 'H2+', 'C2H3+', 'C3H7+', 'C4H10NO+', 'C2H8N+', 'CaOH+', 'Na2O+', 'C6H5+', 'C4H10NO+', 'Ca++', 'SiC3H9+', 'Al+', 'C2H5O+', 'C4H10NO+', 'Na2+', 'C2H8N+', 'Si+', 'OCH3+', 'SiC3H9+', 'C4H7+', 'OCH3+', 'C4H8N+', 'CH4N+', 'C2H6N+', 'C4H5+', 'OH3+', 'SiC3H9+', 'K+', 'Ca+', 'C7H7+', 'Mg+', 'H2+', 'SiC3H9+', 'C+', 'NH4+', 'Si+', 'Na2OH+', 'C2H6N+', 'C2H3+', 'C2H5+', 'C3H6N+', 'Na2+', 'C4H7+', 'Si+', 'C4H8N+', 'Na2NO2+', 'Si2+', 'K+', 'CH4N+', 'Na2+', 'C2H5+', 'C5H12N+', 'OH3+', 'C3H6N+', 'Ca++', 'OCH3+', 'Si2+', 'CaOH+', 'Na2O+', 'CaOH+', 'CH4N+', '41K+', 'Si2+', 'Na2O+', 'C4H9+', 'CH4N+', 'OH3+', 'Al+', 'C3H7+', 'Li+', 'C2H3+', '6Li+', 'K+', 'C+', 'C+', '29Si+', 'C3H6N+', 'SiOH+', '25Mg+', 'C2H6N+', 'CH3+', 'C6H5+', 'C+', 'Si+', 'C+', '41K+', 'CH4N+', 'CaOH+', 'C3H6N+', 'C3H5+', 'Si2+', 'C2H3+', 'OCH3+', '29Si+', 'K+', 'SiOH+', 'Al+', 'H+', 'C+', 'C3H3+', 'C4H5+', 'C4H9+', 'NH4+', 'C2H8N+', '29Si+', 'SiOH+', 'C2H3+', 'C5H12N+', 'C2H6N+', '30Si+', '41K+', 'Si+', 'CH3+', 'C4H9+', 'Ca+', 'CH3+', 'SiC3H9+', 'OCH3+', 'OCH3+', 'Na2OH+', 'Si2+', 'Na2OH+', 'Na2O+', 'CH4N+', 'B+', 'C4H7+', '25Mg+', 'C2H3+', 'C7H7+', 'CaOH+', 'OCH3+', 'H2+', 'C5H12N+', 'C2H6N+', 'C3H3+', 'Si2+', 'C2H5+', '29Si+', 'C2H6N+', 'C3H7+', 'C4H8N+', 'C4H9+', 'Na+', '41K+', 'C5H12N+', 'C4H5+', '6Li+', 'C4H9+', 'C2H8N+', 'OCH3+', '25Mg+', 'CH4N+', '29Si+', 'OH3+', 'Mg+', 'Na2OH+', 'C3H3+', 'C3H7+', 'Si+', 'B+', 'C7H7+', '25Mg+', 'C4H7+', 'C3H3+', 'Na2OH+', 'CH4N+', 'C4H5+', 'Na2+', 'C2H5+', 'C3H5+', 'Ca++', 'H+', 'OH3+', 'Na2NO2+', 'Na+', 'OH3+', 'C3H6N+', 'Fe+', 'Na2O+', 'C4H10NO+', 'Fe+', 'Al+', 'C2H3+', 'C6H5+', 'CH3+', 'C4H5+', 'C4H7+', 'Na2+', 'SiOH+', 'C4H7+', 'C4H5+', 'Fe+', '26Mg+', '25Mg+', 'C7H7+', 'CH4N+', 'C5H12N+', 'C6H5+', '6Li+', 'Na2+', 'Fe+', '41K+', 'Na+', 'C3H7+', 'C4H8N+', 'SiC3H9+', 'Fe+', 'C4H8N+', 'Li+', 'SiOH+', 'H+', 'C6H5+', 'C+', 'Na+', 'Mg+', 'C2H5O+', 'C4H8N+', 'C2H5+', '29Si+', 'H2+', 'K+', 'C4H7+', 'Al+', 'C4H10NO+', 'C6H5+', 'Fe+', 'C4H10NO+', 'C7H7+', 'K+', 'SiOH+', 'CH4N+', 'Na2OH+', 'H+', 'C2H5O+', 'Si2+', 'C4H7+', 'Mg+', 'OCH3+', 'OCH3+', 'C3H7+', 'CH4N+', 'Ca++', 'C2H5+', 'Na2O+', 'C2H3+', 'C7H7+', 'Na+', 'B+', 'C4H9+', '26Mg+', 'C2H5O+', '29Si+', 'CH3+', 'C3H3+', 'OCH3+', '41K+', 'Si+', 'C2H5+', 'C3H6N+', 'CH3+', 'SiOH+', 'C7H7+', 'C4H7+', 'K+', 'SiC3H9+', 'H+', 'K+', '41K+', 'H+', 'B+', 'C3H3+', 'C7H7+', 'C2H6N+', 'Si+', 'C7H7+', 'Ca++', 'C4H10NO+', 'C4H8N+', 'Si+', 'Na2NO2+', 'NH4+', 'Na2O+', 'H+', 'Ca+', 'Mg+', 'C7H7+', 'Si+', 'C4H9+', 'C4H10NO+', 'C3H3+', 'Ca+', 'C3H5+', '6Li+', 'NH4+', 'C3H6N+', 'Ca++', 'Na+', 'CH4N+', '25Mg+', 'Na2+', 'B+', 'H+', 'Na2+', 'C4H9+', '41K+', 'Na+', 'Al+', 'Na2O+', 'Al+', 'C+', 'Si+', 'C3H7+', 'C+', 'C2H8N+', 'Ca++', 'OH3+', 'Al+', '25Mg+', 'C3H7+', 'Na2OH+', 'SiOH+', 'C7H7+', 'Ca++', 'Na2O+', '25Mg+', 'C4H5+', 'C2H5+', '6Li+', 'C4H10NO+', 'C4H7+', 'K+', 'C2H5O+', 'Na2OH+', 'Mg+', 'Ca+', 'C2H3+', 'CH4N+', 'C3H7+', 'C3H5+', 'Si2+', 'C5H12N+', 'OH3+', 'Si2+', 'C2H8N+', 'C2H8N+', 'C3H7+', 'B+', '25Mg+', 'C3H3+', 'C+', 'C3H5+', 'C2H5O+', '41K+', 'Na2OH+', 'K+', 'C2H8N+', 'C3H7+', 'C4H9+', 'Ca+', '41K+', 'C2H6N+', 'Na2+', 'C2H8N+', 'CaOH+', 'SiC3H9+', 'C5H12N+', 'C+', 'NH4+', 'Na2+', 'CH3+', 'Ca++', 'CH4N+', 'Si+', '30Si+', 'Ca++', 'Na2NO2+', 'C3H7+', 'Si+', 'SiC3H9+', 'Na+', 'Na2+', '25Mg+', 'C4H10NO+', 'Ca++', '30Si+', 'CaOH+', 'K+', 'C+', 'Ca++', 'OCH3+', 'C2H6N+', 'Na2OH+', 'C7H7+', 'C4H10NO+', 'C4H8N+', '29Si+', 'C2H8N+', 'Ca++', 'Na2O+', '6Li+', 'H2+', 'C4H9+', 'C2H5+', 'C3H5+', 'Fe+', 'C3H5+', 'C4H7+', '6Li+', 'C4H8N+', 'OH3+', '6Li+', '29Si+', 'K+', 'C4H9+', 'C+', 'C2H8N+', 'OCH3+', 'C2H3+', 'Na+', 'Li+', 'Na+', 'Na2OH+', 'Na2NO2+', 'C3H3+', 'K+', 'C6H5+', 'Na2+', 'C4H8N+', 'C3H6N+', 'NH4+', 'C2H8N+', 'C2H3+', 'C2H5+', 'Na2OH+', 'Mg+', 'C4H5+', 'C3H7+', 'CH3+', 'Na2NO2+', 'C2H5+', 'Na2+', 'CH3+', 'C+', '25Mg+', 'C+', 'C2H5O+', 'Ca+', 'Ca++', 'C4H8N+', 'C5H12N+', 'C4H5+', 'C4H5+', 'C3H6N+', 'C5H12N+', 'C3H5+', 'Na2OH+', 'C+', 'SiC3H9+', '25Mg+', 'SiOH+', 'H+', 'Li+', 'C+', 'NH4+', 'C4H9+', 'C4H5+', '6Li+', 'H+', 'SiOH+', '26Mg+', 'Al+', '25Mg+', 'C4H5+', 'Na2NO2+', 'OH3+', 'C2H5O+', 'H2+', 'Na2OH+', 'Na2O+', 'K+', 'CH3+', 'Si2+', '26Mg+', 'C5H12N+', '6Li+', '6Li+', 'Li+', 'C2H5O+', 'Na+', 'C3H3+', 'CH4N+', 'Si+', 'Al+', 'C4H7+', 'C2H6N+', 'C2H5+', 'C+', '29Si+', '6Li+', 'C2H8N+', 'Mg+', 'C+', 'C4H5+', 'OH3+', 'OH3+', 'Si+', 'SiOH+', 'C2H6N+', 'Si2+', 'K+', 'OCH3+', 'Fe+', 'CH3+', 'Al+', 'Na2OH+', 'Mg+', 'Si+', 'C6H5+', '25Mg+', 'Ca+', 'Si2+', 'Na2NO2+', 'C2H6N+', '41K+', '25Mg+', 'Na2O+', 'Na2+', 'Ca+', 'Ca+', 'CH3+', 'OCH3+', 'Na2O+', 'C2H3+', '30Si+', 'C4H5+', 'C4H5+', '25Mg+', '29Si+', 'NH4+', 'Na2OH+', 'K+', 'Na2O+', '41K+', 'Ca++', 'C4H9+', 'C7H7+', 'CaOH+', 'CaOH+', 'Li+', 'Mg+', 'SiOH+', 'SiC3H9+', 'SiOH+', 'C3H7+', 'C4H10NO+', 'Na+', 'Ca+', 'C4H8N+', 'SiC3H9+', 'Si2+', 'Na2NO2+', 'C3H5+', '41K+', 'SiC3H9+', '30Si+', 'C2H8N+', 'B+', '29Si+', '41K+', 'C4H8N+', 'C4H5+', 'C6H5+', 'H+', 'C7H7+', 'Si+', 'Na2O+', 'C4H5+', '25Mg+', 'C4H8N+', 'Li+', 'Si+', '6Li+', 'OH3+', 'C3H5+', 'C2H8N+', '29Si+', 'Na2OH+', 'CaOH+', 'Na2O+', '6Li+', 'C2H6N+', 'C4H7+', 'Ca+', 'C7H7+', 'Fe+', 'H+', 'C7H7+', '41K+', 'H2+', 'C4H10NO+', 'NH4+', 'Ca+', 'C4H10NO+', 'Si+', 'CaOH+', '41K+', 'C3H7+', 'Mg+', 'C4H7+', 'Fe+', '26Mg+', 'C2H6N+', '29Si+', 'CH4N+', 'CH4N+', 'Na+', 'OCH3+', 'NH4+', '25Mg+', '41K+', 'C4H10NO+', '25Mg+', 'C3H3+', 'C3H5+', 'CH3+', 'Fe+', 'B+', 'C3H7+', 'OH3+', 'Li+', 'CH3+', 'C7H7+', 'OCH3+', 'C7H7+', 'H2+', '26Mg+', 'Na2O+', 'C4H7+', 'SiOH+', 'Na+', 'C2H6N+', 'CH3+', 'Mg+', 'K+', 'C2H6N+', 'Na+', 'C2H5O+', '25Mg+', 'C4H7+', 'Si+', 'C3H5+', 'C3H6N+', 'Si+', 'OCH3+', 'SiC3H9+', 'C6H5+', 'SiC3H9+', 'C2H3+', 'Fe+', '6Li+', 'OCH3+', 'K+', 'C2H3+', '29Si+', 'SiC3H9+', 'C2H8N+', 'Na+', '41K+', 'K+', '41K+', 'K+', 'C3H3+', 'Fe+', 'OH3+', '29Si+', 'C4H8N+', 'OH3+', 'C6H5+', 'Na2NO2+', 'C2H6N+', 'C2H6N+', 'C3H7+', 'Al+', 'SiC3H9+', 'CH4N+', 'OH3+', 'C4H10NO+', 'Ca+', '6Li+', 'Na2+', 'SiOH+', 'C5H12N+', 'C4H10NO+', 'C2H6N+', '41K+', '25Mg+', 'OH3+', 'Na+', 'Ca++', 'C7H7+', 'SiOH+', 'C+', 'OCH3+', '25Mg+', 'C4H8N+', 'C6H5+', 'Na2NO2+', 'C5H12N+', '26Mg+', 'CH4N+', 'Na+', 'C3H6N+', 'Na+', 'Na2OH+', 'CH4N+', 'CaOH+', '26Mg+', 'NH4+', 'H+', 'C6H5+', 'C2H8N+', 'C4H8N+', '26Mg+', 'Ca+', 'Si+', 'C3H3+', 'C2H8N+', 'C5H12N+', 'H2+', 'CH3+', 'C+', 'CaOH+', 'C+', '6Li+', 'Ca++', 'Fe+', 'C2H5+', 'C2H6N+', 'CH4N+', 'C2H5O+', 'C4H5+', 'Al+', 'Li+', 'CH4N+', 'C6H5+', 'Mg+', '26Mg+', 'C+', '30Si+', 'Mg+', '6Li+', 'Na2NO2+', 'Na+', 'C4H7+', '25Mg+', 'C4H10NO+', 'C+', 'C2H5O+', 'Na+', 'C+', 'Ca+', 'C4H7+', 'Mg+', 'H+', 'Na2NO2+', 'Mg+', 'C3H7+', 'C7H7+', 'C2H5+', 'Na+', 'Si2+', 'C3H7+', 'CH3+', 'OH3+', 'CH3+', 'CH4N+', 'CaOH+', 'CH4N+', 'C3H5+', 'Si+', 'C4H7+', 'Na2+', 'H+', 'C2H5+', 'H2+', 'Na2OH+', 'K+', 'C4H5+', 'OCH3+', 'CaOH+', 'C4H10NO+', 'C4H5+', 'C4H5+', 'C3H5+', 'C4H9+', 'C3H7+', 'C4H8N+', '6Li+', '26Mg+', 'Ca++', '6Li+', 'NH4+', 'H2+', 'C7H7+', 'Na2OH+', 'Na2O+', 'C4H7+', 'C3H7+', 'C2H5O+', '29Si+', 'C2H6N+', '29Si+', 'C3H5+', 'Al+', 'K+', 'Na2OH+', 'K+', 'CaOH+', 'Si+', 'H2+', 'CaOH+', 'CH3+', 'C6H5+', 'C3H5+', 'Fe+', 'C4H10NO+', 'C4H9+', 'C3H6N+', 'Al+', 'C4H7+', 'H2+', 'CH3+', 'Mg+', '41K+', 'Si+', 'C4H8N+', 'C3H3+', 'C2H5+', 'C3H6N+', 'Si+', 'C2H6N+', 'C2H5O+', '30Si+', '41K+', 'C2H8N+', 'SiOH+', 'C4H10NO+', 'Na2OH+', 'H+', 'C3H7+', 'C4H8N+', '29Si+', 'SiC3H9+', 'C3H7+', 'C6H5+', 'C3H3+', 'CH3+', 'C3H7+', 'SiOH+', 'H2+', 'SiC3H9+', 'C2H8N+', 'NH4+', 'Fe+', 'Si2+', 'K+', 'C7H7+', 'Na2NO2+', 'C2H6N+', 'SiC3H9+', 'C2H3+', 'C2H3+', 'C2H6N+', 'Na2OH+']\n",
      "\n",
      "Classification Accuracy:  84.39999999999999%\n"
     ]
    }
   ],
   "source": [
    "# Now let's compare our array with the real labels and determine the classification accuracy of the Gaussian Process\n",
    "y_pred = np.argmax(rel_prob_matrix, 1)\n",
    "species_pred = [data.at[y, 'Species'] for y in y_pred]\n",
    "species_act = [data.at[y, 'Species'] for y in y_data]\n",
    "\n",
    "print(\"\\nPredicted: \\n\", species_pred)\n",
    "print(\"\\nActual: \\n\", species_act)\n",
    "\n",
    "class_acc = (y_pred == y_data).mean()*100\n",
    "print(\"\\nClassification Accuracy: \", str(class_acc) + \"%\")"
   ]
  },
  {
   "cell_type": "code",
   "execution_count": 8,
   "metadata": {},
   "outputs": [
    {
     "name": "stdout",
     "output_type": "stream",
     "text": [
      "\n",
      "Incorrect Predictions: \n",
      " ['C2H5+' 'C2H8N+' 'C3H5+' 'Fe+' 'C2H8N+' 'C2H8N+' 'Al+' 'Na2+' 'C3H5+'\n",
      " '30Si+' 'C2H5+' '29Si+' 'C3H6N+' 'Na2+' 'Fe+' 'Al+' 'SiOH+' 'C3H5+'\n",
      " 'C4H9+' 'C3H6N+' 'Fe+' 'Na2+' 'C2H3+' '30Si+' 'C3H3+' 'Al+' 'C2H8N+'\n",
      " 'C3H6N+' '30Si+' 'C2H8N+' 'C3H6N+' 'C3H5+' 'Fe+' 'CaOH+' 'C2H3+' 'C2H5O+'\n",
      " 'C3H5+' '30Si+' 'C3H6N+' 'Al+' 'C2H5+' 'Na2+' 'C2H5+' 'CH4N+' 'C3H5+'\n",
      " 'Fe+' '30Si+' 'Fe+' 'CaOH+' '30Si+' 'K+' 'C2H3+' 'Al+' 'C2H5O+' 'Na2NO2+'\n",
      " 'C2H5O+' '29Si+' 'C3H3+' 'C2H3+' 'Si2+' 'C3H3+' 'SiOH+' 'Fe+' '29Si+'\n",
      " 'CaOH+' 'SiOH+' 'C2H5+' 'K+' 'Fe+' 'C3H3+' 'C3H3+' 'K+' 'C2H8N+' 'C2H8N+'\n",
      " 'CaOH+' 'C3H5+' 'Na2+' 'C3H3+' 'SiOH+' 'Al+' '41K+' 'Fe+' 'Fe+' 'Na2+'\n",
      " 'K+' 'CaOH+' 'C3H5+' 'C2H8N+' 'C4H9+' 'C2H8N+' '30Si+' 'C2H8N+' 'C3H3+'\n",
      " '29Si+' 'Na2+' 'K+' 'C3H3+' '29Si+' 'C2H8N+' 'SiOH+' 'Fe+' '41K+' 'CaOH+'\n",
      " 'Fe+' 'SiOH+' 'K+' '30Si+' '29Si+' 'C2H5+' 'Na2+' 'C2H5O+' 'C3H6N+'\n",
      " 'Si2+' 'Fe+' 'C3H5+' 'Al+' 'CH4N+' 'C3H3+' 'CaOH+' 'Fe+' 'C2H5+' 'C4H9+'\n",
      " 'C4H9+' 'C3H6N+' 'C2H5+' 'C3H6N+' 'C3H3+' 'SiOH+' '41K+' 'Al+' 'C3H6N+'\n",
      " 'C3H3+' 'C3H3+' 'C2H5+' 'C2H3+' 'K+' 'Si2+' '29Si+' 'SiOH+' '29Si+'\n",
      " '41K+' 'C2H8N+' '29Si+' '41K+' 'CaOH+' 'SiOH+' 'C2H5+' 'C4H9+' 'CaOH+'\n",
      " 'K+' '29Si+' 'SiOH+' 'C3H5+' 'Na2+' 'Fe+' 'Al+']\n",
      "\n",
      "Correct Species: \n",
      " ['29Si+' 'Na2+' '41K+' 'C3H6N+' 'Na2+' 'Na2+' 'C2H3+' 'C2H8N+' '41K+'\n",
      " 'CH4N+' '29Si+' 'C2H5+' 'Fe+' 'C2H8N+' 'C3H6N+' 'C2H3+' 'C2H5O+' '41K+'\n",
      " 'CaOH+' 'Si2+' 'Si2+' 'C2H8N+' 'Al+' 'CH4N+' 'K+' 'C2H3+' 'Na2+' 'Si2+'\n",
      " 'CH4N+' 'Na2+' 'Si2+' '41K+' 'Si2+' 'C4H9+' 'Al+' 'SiOH+' '41K+' 'CH4N+'\n",
      " 'Si2+' 'C2H3+' '29Si+' 'C2H8N+' '29Si+' '30Si+' '41K+' 'Si2+' 'CH4N+'\n",
      " 'Si2+' 'C4H9+' 'CH4N+' 'C3H3+' 'Al+' 'C2H3+' 'SiOH+' 'C7H7+' 'SiOH+'\n",
      " 'C2H5+' 'K+' 'Al+' 'Fe+' 'K+' 'C2H5O+' 'Si2+' 'C2H5+' 'C4H9+' 'C2H5O+'\n",
      " '29Si+' 'C3H3+' 'C3H6N+' 'K+' 'K+' 'C3H3+' 'Na2+' 'Na2+' 'C4H9+' '41K+'\n",
      " 'C2H8N+' 'K+' 'C2H5O+' 'C2H3+' 'C3H5+' 'Si2+' 'Si2+' 'C2H8N+' 'C3H3+'\n",
      " 'C4H9+' '41K+' 'Na2+' 'CaOH+' 'Na2+' 'CH4N+' 'Na2+' 'K+' 'C2H5+' 'C2H8N+'\n",
      " 'C3H3+' 'K+' 'C2H5+' 'Na2+' 'C2H5O+' 'C3H6N+' 'C3H5+' 'C4H9+' 'Si2+'\n",
      " 'C2H5O+' 'C3H3+' 'CH4N+' 'C2H5+' '29Si+' 'C2H8N+' 'SiOH+' 'Si2+' 'Fe+'\n",
      " 'Si2+' '41K+' 'C2H3+' '30Si+' 'K+' 'C4H9+' 'Si2+' '29Si+' 'CaOH+' 'CaOH+'\n",
      " 'Fe+' '29Si+' 'Fe+' 'K+' 'C2H5O+' 'C3H5+' 'C2H3+' 'Fe+' 'K+' 'K+' '29Si+'\n",
      " 'Al+' 'C3H3+' 'Fe+' 'C2H5+' 'C2H5O+' 'C2H5+' 'C3H5+' 'Na2+' 'C2H5+'\n",
      " 'C3H5+' 'C4H9+' 'C2H5O+' '29Si+' 'CaOH+' 'C4H9+' 'C3H3+' 'C2H5+' 'C2H5O+'\n",
      " '41K+' 'C2H8N+' 'Si2+' 'C2H3+']\n",
      "\n",
      "Indices of Incorrect Predictions: \n",
      " [6, 15, 16, 18, 35, 37, 44, 60, 63, 74, 75, 79, 93, 95, 104, 106, 107, 109, 110, 115, 120, 130, 137, 148, 153, 164, 167, 172, 174, 175, 182, 187, 188, 190, 193, 203, 211, 212, 216, 217, 219, 229, 230, 235, 236, 246, 249, 261, 267, 277, 289, 307, 308, 314, 320, 335, 343, 346, 348, 351, 354, 359, 360, 368, 374, 376, 377, 379, 384, 389, 392, 415, 425, 428, 429, 430, 439, 456, 457, 461, 464, 465, 468, 470, 474, 483, 485, 487, 489, 494, 497, 506, 512, 528, 541, 549, 550, 558, 566, 571, 578, 580, 590, 607, 613, 615, 616, 621, 623, 625, 632, 634, 637, 646, 649, 658, 659, 666, 670, 685, 693, 713, 730, 735, 738, 751, 769, 772, 776, 783, 784, 787, 796, 800, 808, 851, 861, 862, 865, 894, 904, 907, 909, 919, 920, 934, 935, 943, 952, 962, 963, 967, 969, 970, 990, 997]\n"
     ]
    }
   ],
   "source": [
    "# Show some incorrect classifications and what they should be\n",
    "y_pred, y_data, species_pred, species_act = np.array(y_pred), np.array(y_data), np.array(species_pred), np.array(species_act)\n",
    "prediction_mask = (y_pred != y_data)\n",
    "\n",
    "print(\"\\nIncorrect Predictions: \\n\", species_pred[prediction_mask])\n",
    "print(\"\\nCorrect Species: \\n\", species_act[prediction_mask])\n",
    "\n",
    "print(\"\\nIndices of Incorrect Predictions: \\n\", [i for i in range(len(prediction_mask)) if prediction_mask[i]])"
   ]
  },
  {
   "cell_type": "code",
   "execution_count": null,
   "metadata": {},
   "outputs": [],
   "source": []
  }
 ],
 "metadata": {
  "kernelspec": {
   "display_name": "virtenv",
   "language": "python",
   "name": "python3"
  },
  "language_info": {
   "codemirror_mode": {
    "name": "ipython",
    "version": 3
   },
   "file_extension": ".py",
   "mimetype": "text/x-python",
   "name": "python",
   "nbconvert_exporter": "python",
   "pygments_lexer": "ipython3",
   "version": "3.8.10"
  },
  "orig_nbformat": 4
 },
 "nbformat": 4,
 "nbformat_minor": 2
}
