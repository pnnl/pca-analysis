{
 "cells": [
  {
   "cell_type": "code",
   "execution_count": 1,
   "metadata": {},
   "outputs": [],
   "source": [
    "%matplotlib inline\n",
    "\n",
    "import numpy as np\n",
    "import matplotlib.pyplot as plt\n",
    "import pandas as pd\n",
    "import torch\n",
    "import torchvision\n",
    "import torch.nn as nn\n",
    "\n",
    "import matplotlib.pyplot as plt"
   ]
  },
  {
   "cell_type": "code",
   "execution_count": 149,
   "metadata": {},
   "outputs": [],
   "source": [
    "# Generate training data. We use a compound lookup table, then add some noise.\n",
    "data = pd.read_csv(\"train_data.csv\")\n",
    "training_size = 1000\n",
    "\n",
    "# Select a bunch of random rows in the data\n",
    "np.random.seed(2)\n",
    "masses = []\n",
    "species = []\n",
    "for i in range(training_size):\n",
    "    rand_index = np.random.randint(10)\n",
    "    masses.append(data.at[rand_index, \"Precise Mass\"])\n",
    "    # Use one-hot encodig of species strings to integers.\n",
    "    species.append(rand_index)\n",
    "masses = np.array(masses)\n",
    "\n",
    "# Generate noise for the same number of rows'\n",
    "noise = 0.01 * np.random.standard_normal(size = training_size)\n",
    "\n",
    "# Combine the noise and randomly selected masses to create our training data\n",
    "x_data = masses + noise\n",
    "y_data = species\n",
    "# print(\"x_data: \", x_data)\n",
    "# print(\"y_data: \", y_data)"
   ]
  },
  {
   "cell_type": "code",
   "execution_count": 168,
   "metadata": {},
   "outputs": [
    {
     "name": "stdout",
     "output_type": "stream",
     "text": [
      "720\n",
      "180\n",
      "100\n",
      "720\n",
      "180\n",
      "100\n"
     ]
    }
   ],
   "source": [
    "from sklearn.preprocessing import StandardScaler\n",
    "from sklearn.model_selection import train_test_split\n",
    "\n",
    "# TODO Scale data if needed?\n",
    "# Normalize data before we pass it through our network.\n",
    "# scaler = StandardScaler()\n",
    "# x_train = scaler.fit_transform(x_train.reshape(-1,1))\n",
    "# y_train = scaler.fit_transform(y_train.reshape(-1,1))\n",
    "\n",
    "# 72 / 18 / 10 train / validation / test split\n",
    "x_train, x_test, y_train, y_test = train_test_split(x_data, y_data, test_size=0.1)\n",
    "\n",
    "x_validation = x_train[int(0.8*len(x_train)):]\n",
    "x_train = x_train[:int(0.8*len(x_train))]\n",
    "y_validation = y_train[int(0.8*len(y_train)):]\n",
    "y_train = y_train[:int(0.8*len(y_train))]\n",
    "\n",
    "x_train = np.reshape(x_train, (len(x_train),1))\n",
    "x_validation = np.reshape(x_validation, (len(x_validation),1))\n",
    "x_test = np.reshape(x_test, (len(x_test),1))\n",
    "y_train = np.array(y_train)\n",
    "y_validation = np.array(y_validation)\n",
    "y_test = np.array(y_test)\n",
    "\n",
    "print(len(x_train))\n",
    "print(len(x_validation))\n",
    "print(len(x_test))\n",
    "print(len(y_train))\n",
    "print(len(y_validation))\n",
    "print(len(y_test))"
   ]
  },
  {
   "cell_type": "code",
   "execution_count": 169,
   "metadata": {},
   "outputs": [],
   "source": [
    "# Define our model\n",
    "class speciesClassification(torch.nn.Module):\n",
    "    \n",
    "    def __init__(self, input_dim, output_dim):\n",
    "        \n",
    "        super(speciesClassification, self).__init__()\n",
    "        \n",
    "        # Create input layer, 2 hidden layers of 32 neurons each with ReLu activation functions after each layer, and\n",
    "        # output layer\n",
    "        self.layer1 = nn.Linear(input_dim, 32)\n",
    "        self.actfun1 = nn.ReLU()\n",
    "        self.layer2 = nn.Linear(32, 32)\n",
    "        self.actfun2 = nn.ReLU()\n",
    "        self.output_layer = nn.Linear(32, output_dim)\n",
    "        self.softmax = nn.Softmax(dim=1)\n",
    "        \n",
    "    def forward(self, x):\n",
    "        \n",
    "        # Send our inputs through the network defined above\n",
    "        x = self.layer1(x)\n",
    "        x = self.actfun1(x)\n",
    "        x = self.layer2(x)\n",
    "        x = self.actfun2(x)\n",
    "        x = self.output_layer(x)\n",
    "        out = self.softmax(x)\n",
    "        \n",
    "        return out"
   ]
  },
  {
   "cell_type": "code",
   "execution_count": 170,
   "metadata": {},
   "outputs": [
    {
     "data": {
      "text/plain": [
       "speciesClassification(\n",
       "  (layer1): Linear(in_features=1, out_features=32, bias=True)\n",
       "  (actfun1): ReLU()\n",
       "  (layer2): Linear(in_features=32, out_features=32, bias=True)\n",
       "  (actfun2): ReLU()\n",
       "  (output_layer): Linear(in_features=32, out_features=10, bias=True)\n",
       "  (softmax): Softmax(dim=1)\n",
       ")"
      ]
     },
     "execution_count": 170,
     "metadata": {},
     "output_type": "execute_result"
    }
   ],
   "source": [
    "# Initialize our neural network model with input and output dimensions\n",
    "# Input: A single float representing the atomic weight\n",
    "# Ouput: A vector of 10 entries representing the probability our input species is one of the corresponding \n",
    "#        10 output classes\n",
    "model = speciesClassification(1, 10)\n",
    "\n",
    "# Define the learning rate and epoch \n",
    "learning_rate = 0.01\n",
    "epochs = 1000\n",
    "batchsize = 50\n",
    "\n",
    "# Define loss function and optimizer. Start out using SGD (TODO: CHANGE LATER IF NEEDED).\n",
    "loss_func = torch.nn.CrossEntropyLoss()\n",
    "optimizer = torch.optim.Adam(model.parameters(), lr = learning_rate)\n",
    "\n",
    "# Run this line if you have PyTorch GPU version\n",
    "if torch.cuda.is_available():\n",
    "    model.cuda()\n",
    "\n",
    "model"
   ]
  },
  {
   "cell_type": "code",
   "execution_count": 171,
   "metadata": {},
   "outputs": [],
   "source": [
    "# Placeholders for training loss and validation accuracy during training\n",
    "# Training loss should be tracked for each iteration (1 iteration -> single forward pass to the network)\n",
    "# Validation accuracy should be evaluated every 'Epoch' (1 epoch -> full training dataset)\n",
    "# If using batch gradient, 1 iteration = 1 epoch\n",
    "\n",
    "train_loss_list = []\n",
    "validation_accuracy_list = []"
   ]
  },
  {
   "cell_type": "code",
   "execution_count": null,
   "metadata": {},
   "outputs": [],
   "source": [
    "import tqdm\n",
    "\n",
    "# Convert the training, validation, testing dataset (NumPy arrays) into torch tensors\n",
    "\n",
    "# YOUR CODE HERE\n",
    "x_train_final = torch.from_numpy(x_train).float()\n",
    "y_train_final = torch.from_numpy(y_train).long()\n",
    "\n",
    "x_validation_final = torch.from_numpy(x_validation).float()\n",
    "y_validation_final = torch.from_numpy(y_validation).long()\n",
    "\n",
    "x_test_final = torch.from_numpy(x_test).float()\n",
    "y_test_final = torch.from_numpy(y_test).long()\n",
    "\n",
    "# Training Loop ---------------------------------------------------------------------------------------\n",
    "\n",
    "for epoch in tqdm.trange(epochs):\n",
    "    \n",
    "    # YOUR CODE HERE\n",
    "    # Step through the optimizer and update the loss on each step.\n",
    "    optimizer.zero_grad()\n",
    "    outputs = model(x_train_final)\n",
    "\n",
    "    # print(outputs.shape)\n",
    "    # print(y_train_final.shape)\n",
    "    \n",
    "    loss = loss_func(outputs, y_train_final)\n",
    "    train_loss_list.append(loss.item())\n",
    "    loss.backward()\n",
    "    optimizer.step()\n",
    "    \n",
    "    # Compute Validation Accuracy ----------------------------------------------------------------------\n",
    "    \n",
    "    # YOUR CODE HERE\n",
    "    with torch.no_grad(): # Tell PyTorch that we aren't passing inputs to network for training purpose\n",
    "        \n",
    "        # Pass the validation feature data (30 samples) to the network\n",
    "        validation_outputs = model(x_validation_final)\n",
    "        \n",
    "        # validation_outputs = tensor of shape (30, 3), i.e., 30 predictions and each prediction has 3 probabilities.\n",
    "        # These are classification probabilities for each flower type: [p(setosa), p(versicolor), p(virginica)].\n",
    "        # torch.argmax(validation_outputs, dim=1) finds the index with the maximum value alongside the column direction\n",
    "        # i.e. for each sample, it finds the column index with the highest probability.\n",
    "        # == validation_targets compares these indices with groundtruth validation target labels for each sample\n",
    "        # For each sample, it returns True if the index matches the target, False otherwise\n",
    "        # .type(torch.FloatTensor) converts True = 1, False = 0\n",
    "        # Finally .mean() gives us (Total count of 1) / (Length of the 1D tensor), giving us the classification accuracy  \n",
    "        \n",
    "        correct = (torch.argmax(validation_outputs, dim=1) == \n",
    "                   y_validation_final).type(torch.FloatTensor)\n",
    "        \n",
    "        validation_accuracy_list.append(correct.mean())"
   ]
  },
  {
   "cell_type": "code",
   "execution_count": 174,
   "metadata": {},
   "outputs": [
    {
     "data": {
      "image/png": "[encoded data removed]",
      "text/plain": [
       "<Figure size 1200x600 with 2 Axes>"
      ]
     },
     "metadata": {},
     "output_type": "display_data"
    }
   ],
   "source": [
    "# Import seaborn for prettier plots\n",
    "\n",
    "import seaborn as sns\n",
    "# Visualize training loss\n",
    "\n",
    "plt.figure(figsize = (12, 6))\n",
    "\n",
    "# Visualize training loss with respect to iterations (1 iteration -> single batch)\n",
    "plt.subplot(2, 1, 1)\n",
    "plt.plot(train_loss_list, linewidth = 3)\n",
    "plt.ylabel(\"training loss\")\n",
    "plt.xlabel(\"epochs\")\n",
    "sns.despine()\n",
    "\n",
    "# Visualize validation accuracy with respect to epochs\n",
    "plt.subplot(2, 1, 2)\n",
    "plt.plot(validation_accuracy_list, linewidth = 3, color = 'gold')\n",
    "plt.ylabel(\"validation accuracy\")\n",
    "sns.despine()"
   ]
  },
  {
   "cell_type": "code",
   "execution_count": 175,
   "metadata": {},
   "outputs": [
    {
     "name": "stdout",
     "output_type": "stream",
     "text": [
      "Testing Accuracy: 52.99999713897705%\n"
     ]
    }
   ],
   "source": [
    "# YOUR CODE HERE\n",
    "# Compute the testing accuracy.\n",
    "with torch.no_grad(): # Tell PyTorch that we aren't passing inputs to network for training purpose.\n",
    "\n",
    "    # Pass the testing feature data to the network to produce model predictions.\n",
    "    y_pred_test = model(x_test_final) \n",
    "    \n",
    "    # Use the same technique as above to compute the testing classification accuracy.\n",
    "    correct = (torch.argmax(y_pred_test, dim=1) == y_test_final).type(torch.FloatTensor)\n",
    "    \n",
    "    # Print test accuracy to the user.\n",
    "    print(\"Testing Accuracy: \" + str(correct.mean().numpy()*100) + '%')"
   ]
  },
  {
   "cell_type": "code",
   "execution_count": 176,
   "metadata": {},
   "outputs": [
    {
     "name": "stdout",
     "output_type": "stream",
     "text": [
      "tensor([3, 6, 0, 6, 2, 6, 6, 6, 1, 6, 6, 6, 0, 3, 6, 1, 6, 0, 6, 6, 0, 6, 6, 6,\n",
      "        3, 6, 1, 0, 2, 0, 0, 2, 6, 6, 2, 0, 3, 0, 6, 1, 2, 6, 3, 6, 1, 2, 6, 2,\n",
      "        1, 0, 6, 2, 6, 2, 3, 6, 1, 6, 0, 6, 3, 6, 3, 6, 3, 6, 3, 2, 6, 6, 1, 1,\n",
      "        6, 6, 0, 2, 6, 6, 2, 6, 6, 6, 3, 3, 6, 0, 6, 1, 1, 6, 0, 6, 2, 6, 3, 6,\n",
      "        3, 2, 6, 6])\n",
      "(100, 1)\n",
      "(100, 10)\n",
      "(100,)\n"
     ]
    }
   ],
   "source": [
    "# Check dimensions of our prediction and actual arrays and print some useful things.\n",
    "print(torch.argmax(y_pred_test, dim=1))\n",
    "print(x_test_final.numpy().shape)\n",
    "print(y_pred_test.numpy().shape)\n",
    "print(correct.numpy().shape)"
   ]
  },
  {
   "cell_type": "code",
   "execution_count": null,
   "metadata": {},
   "outputs": [],
   "source": []
  }
 ],
 "metadata": {
  "kernelspec": {
   "display_name": "venv",
   "language": "python",
   "name": "venv"
  },
  "language_info": {
   "codemirror_mode": {
    "name": "ipython",
    "version": 3
   },
   "file_extension": ".py",
   "mimetype": "text/x-python",
   "name": "python",
   "nbconvert_exporter": "python",
   "pygments_lexer": "ipython3",
   "version": "3.10.6"
  },
  "orig_nbformat": 4
 },
 "nbformat": 4,
 "nbformat_minor": 2
}
