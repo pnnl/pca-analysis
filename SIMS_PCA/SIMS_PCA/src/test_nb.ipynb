{
 "cells": [
  {
   "cell_type": "code",
   "execution_count": 1,
   "metadata": {},
   "outputs": [],
   "source": [
    "%matplotlib inline\n",
    "\n",
    "import numpy as np\n",
    "import matplotlib.pyplot as plt\n",
    "import pandas as pd\n",
    "import torch\n",
    "import torchvision\n",
    "import torch.nn as nn\n",
    "\n",
    "import matplotlib.pyplot as plt"
   ]
  },
  {
   "cell_type": "code",
   "execution_count": 2,
   "metadata": {},
   "outputs": [],
   "source": [
    "# Generate training data. We use a compound lookup table, then add some noise.\n",
    "data = pd.read_csv(\"train_data.csv\")\n",
    "training_size = 1000\n",
    "\n",
    "# Select a bunch of random rows in the data\n",
    "np.random.seed(2)\n",
    "masses = []\n",
    "species = []\n",
    "for i in range(training_size):\n",
    "    rand_index = np.random.randint(10)\n",
    "    masses.append(data.at[rand_index, \"Precise Mass\"])\n",
    "    # Use one-hot encodig of species strings to integers.\n",
    "    species.append(rand_index)\n",
    "masses = np.array(masses)\n",
    "\n",
    "# Generate noise for the same number of rows'\n",
    "noise = 0.01 * np.random.standard_normal(size = training_size)\n",
    "\n",
    "# Combine the noise and randomly selected masses to create our training data\n",
    "x_data = masses + noise\n",
    "y_data = species\n",
    "# print(\"x_data: \", x_data)\n",
    "# print(\"y_data: \", y_data)"
   ]
  },
  {
   "cell_type": "code",
   "execution_count": 3,
   "metadata": {},
   "outputs": [
    {
     "name": "stdout",
     "output_type": "stream",
     "text": [
      "720\n",
      "180\n",
      "100\n",
      "720\n",
      "180\n",
      "100\n"
     ]
    }
   ],
   "source": [
    "from sklearn.preprocessing import StandardScaler\n",
    "from sklearn.model_selection import train_test_split\n",
    "\n",
    "# TODO Scale data if needed?\n",
    "# Normalize data before we pass it through our network.\n",
    "# scaler = StandardScaler()\n",
    "# x_train = scaler.fit_transform(x_train.reshape(-1,1))\n",
    "# y_train = scaler.fit_transform(y_train.reshape(-1,1))\n",
    "\n",
    "# 72 / 18 / 10 train / validation / test split\n",
    "x_train, x_test, y_train, y_test = train_test_split(x_data, y_data, test_size=0.1)\n",
    "\n",
    "x_validation = x_train[int(0.8*len(x_train)):]\n",
    "x_train = x_train[:int(0.8*len(x_train))]\n",
    "y_validation = y_train[int(0.8*len(y_train)):]\n",
    "y_train = y_train[:int(0.8*len(y_train))]\n",
    "\n",
    "x_train = np.reshape(x_train, (len(x_train),1))\n",
    "x_validation = np.reshape(x_validation, (len(x_validation),1))\n",
    "x_test = np.reshape(x_test, (len(x_test),1))\n",
    "y_train = np.array(y_train)\n",
    "y_validation = np.array(y_validation)\n",
    "y_test = np.array(y_test)\n",
    "\n",
    "print(len(x_train))\n",
    "print(len(x_validation))\n",
    "print(len(x_test))\n",
    "print(len(y_train))\n",
    "print(len(y_validation))\n",
    "print(len(y_test))"
   ]
  },
  {
   "cell_type": "code",
   "execution_count": 12,
   "metadata": {},
   "outputs": [],
   "source": [
    "# Define our model\n",
    "class speciesClassification(torch.nn.Module):\n",
    "    \n",
    "    def __init__(self, input_dim, output_dim, num_hidden_layers, layer_size):\n",
    "        \n",
    "        super(speciesClassification, self).__init__()\n",
    "\n",
    "        # Store all layers of our network that will be created acording to automated hyperparameter tuning.\n",
    "        self.layers = nn.ModuleList()\n",
    "\n",
    "        # Create input layer\n",
    "        self.layers.append(nn.Linear(input_dim, layer_size))\n",
    "        # self.batch_norm1 = nn.BatchNorm1d(layer_size)\n",
    "        self.layers.append(nn.ReLU())\n",
    "        self.layers.append(nn.Dropout(0.3))\n",
    "        \n",
    "        # Create specified number of hidden layers of layer_size neurons each with ReLu activation function and a dropout \n",
    "        # at each layer\n",
    "        for i in range(num_hidden_layers):\n",
    "            self.layers.append(nn.Linear(layer_size, layer_size))\n",
    "            # self.batch_norm1 = nn.BatchNorm1d(layer_size)\n",
    "            self.layers.append(nn.ReLU())\n",
    "            self.layers.append(nn.Dropout(0.3))\n",
    "\n",
    "        # Add output layer and softmax to get probabilities\n",
    "        self.layers.append(nn.Linear(layer_size, output_dim))\n",
    "        self.layers.append(nn.Softmax(dim=1))\n",
    "        \n",
    "    def forward(self, x):\n",
    "        \n",
    "        # Send our inputs through each layer in the network defined above\n",
    "        for layer in self.layers:\n",
    "            x = layer(x)\n",
    "        \n",
    "        return x"
   ]
  },
  {
   "cell_type": "code",
   "execution_count": 14,
   "metadata": {},
   "outputs": [
    {
     "data": {
      "text/plain": [
       "speciesClassification(\n",
       "  (layers): ModuleList(\n",
       "    (0): Linear(in_features=1, out_features=32, bias=True)\n",
       "    (1): ReLU()\n",
       "    (2): Dropout(p=0.3, inplace=False)\n",
       "    (3): Linear(in_features=32, out_features=32, bias=True)\n",
       "    (4): ReLU()\n",
       "    (5): Dropout(p=0.3, inplace=False)\n",
       "    (6): Linear(in_features=32, out_features=10, bias=True)\n",
       "    (7): Softmax(dim=1)\n",
       "  )\n",
       ")"
      ]
     },
     "execution_count": 14,
     "metadata": {},
     "output_type": "execute_result"
    }
   ],
   "source": [
    "# Initialize our neural network model with input and output dimensions\n",
    "# Input: A single float representing the atomic weight\n",
    "# Ouput: A vector of 10 entries representing the probability our input species is one of the corresponding \n",
    "#        10 output classes\n",
    "model = speciesClassification(input_dim=1, output_dim=10, num_hidden_layers=1, layer_size=32)\n",
    "\n",
    "# Define the learning rate and epoch \n",
    "learning_rate = 0.01\n",
    "epochs = 1000\n",
    "batch_size = 50\n",
    "\n",
    "# Define loss function and optimizer.\n",
    "loss_func = torch.nn.CrossEntropyLoss()\n",
    "optimizer = torch.optim.Adam(model.parameters(), lr = learning_rate)\n",
    "\n",
    "# Run this line if you have PyTorch GPU version\n",
    "if torch.cuda.is_available():\n",
    "    model.cuda()\n",
    "\n",
    "model"
   ]
  },
  {
   "cell_type": "code",
   "execution_count": 15,
   "metadata": {},
   "outputs": [],
   "source": [
    "# Placeholders for training loss and validation accuracy during training\n",
    "# Training loss should be tracked for each iteration (1 iteration -> single forward pass to the network)\n",
    "# Validation accuracy should be evaluated every 'Epoch' (1 epoch -> full training dataset)\n",
    "# If using batch gradient, 1 iteration = 1 epoch\n",
    "\n",
    "train_loss_list = []\n",
    "validation_accuracy_list = []"
   ]
  },
  {
   "cell_type": "code",
   "execution_count": 16,
   "metadata": {},
   "outputs": [],
   "source": [
    "# # -------------------- Hyperparameter Optimization --------------------------\n",
    "\n",
    "# # Random search logistic regression model on the sonar dataset\n",
    "# from scipy.stats import loguniform\n",
    "# from sklearn.linear_model import LogisticRegression\n",
    "# from sklearn.model_selection import RepeatedStratifiedKFold\n",
    "# from sklearn.model_selection import RandomizedSearchCV\n",
    "\n",
    "# # define model\n",
    "# # model_search = LogisticRegression()\n",
    "# # define evaluation\n",
    "# cv = RepeatedStratifiedKFold(n_splits=10, n_repeats=3, random_state=1)\n",
    "# # define search space\n",
    "# space = dict()\n",
    "# space['lr'] = loguniform(1e-5, 100) # np.logspace(-6,0,base=10.0)\n",
    "# space['batch_size'] = loguniform(20, 100)\n",
    "\n",
    "# # define search\n",
    "# search = RandomizedSearchCV(model, space, n_iter=500, scoring='accuracy', n_jobs=-1, cv=cv, random_state=1)\n",
    "# # execute search\n",
    "# result = search.fit(x_train, y_train)\n",
    "# # summarize result\n",
    "# print('Best Score: %s' % result.best_score_)\n",
    "# print('Best Hyperparameters: %s' % result.best_params_)"
   ]
  },
  {
   "cell_type": "code",
   "execution_count": 17,
   "metadata": {},
   "outputs": [
    {
     "name": "stderr",
     "output_type": "stream",
     "text": [
      "100%|██████████| 1000/1000 [00:01<00:00, 550.11it/s]\n"
     ]
    }
   ],
   "source": [
    "import tqdm\n",
    "\n",
    "# Convert the training, validation, testing dataset (NumPy arrays) into torch tensors\n",
    "\n",
    "x_train_final = torch.from_numpy(x_train).float()\n",
    "y_train_final = torch.from_numpy(y_train).long()\n",
    "\n",
    "x_validation_final = torch.from_numpy(x_validation).float()\n",
    "y_validation_final = torch.from_numpy(y_validation).long()\n",
    "\n",
    "x_test_final = torch.from_numpy(x_test).float()\n",
    "y_test_final = torch.from_numpy(y_test).long()\n",
    "\n",
    "# Training Loop ---------------------------------------------------------------------------------------\n",
    "\n",
    "for epoch in tqdm.trange(epochs):\n",
    "    \n",
    "    # Step through the optimizer and update the loss on each step.\n",
    "    optimizer.zero_grad()\n",
    "    outputs = model(x_train_final)\n",
    "\n",
    "    # print(outputs.shape)\n",
    "    # print(y_train_final.shape)\n",
    "    \n",
    "    loss = loss_func(outputs, y_train_final)\n",
    "    train_loss_list.append(loss.item())\n",
    "    loss.backward()\n",
    "    optimizer.step()\n",
    "    \n",
    "    # Compute Validation Accuracy ----------------------------------------------------------------------\n",
    "    \n",
    "    with torch.no_grad(): # Tell PyTorch that we aren't passing inputs to network for training purpose\n",
    "        \n",
    "        # Pass the validation feature data (30 samples) to the network\n",
    "        validation_outputs = model(x_validation_final)\n",
    "        \n",
    "        # validation_outputs = tensor of shape (30, 3), i.e., 30 predictions and each prediction has 3 probabilities.\n",
    "        # These are classification probabilities for each flower type: [p(setosa), p(versicolor), p(virginica)].\n",
    "        # torch.argmax(validation_outputs, dim=1) finds the index with the maximum value alongside the column direction\n",
    "        # i.e. for each sample, it finds the column index with the highest probability.\n",
    "        # == validation_targets compares these indices with groundtruth validation target labels for each sample\n",
    "        # For each sample, it returns True if the index matches the target, False otherwise\n",
    "        # .type(torch.FloatTensor) converts True = 1, False = 0\n",
    "        # Finally .mean() gives us (Total count of 1) / (Length of the 1D tensor), giving us the classification accuracy  \n",
    "        \n",
    "        correct = (torch.argmax(validation_outputs, dim=1) == \n",
    "                   y_validation_final).type(torch.FloatTensor)\n",
    "        \n",
    "        validation_accuracy_list.append(correct.mean())"
   ]
  },
  {
   "cell_type": "code",
   "execution_count": 18,
   "metadata": {},
   "outputs": [
    {
     "data": {
      "image/png": "[encoded data removed]",
      "text/plain": [
       "<Figure size 1200x600 with 2 Axes>"
      ]
     },
     "metadata": {},
     "output_type": "display_data"
    }
   ],
   "source": [
    "# Import seaborn for prettier plots\n",
    "\n",
    "import seaborn as sns\n",
    "# Visualize training loss\n",
    "\n",
    "plt.figure(figsize = (12, 6))\n",
    "\n",
    "# Visualize training loss with respect to iterations (1 iteration -> single batch)\n",
    "plt.subplot(2, 1, 1)\n",
    "plt.plot(train_loss_list, linewidth = 3)\n",
    "plt.ylabel(\"training loss\")\n",
    "plt.xlabel(\"epochs\")\n",
    "sns.despine()\n",
    "\n",
    "# Visualize validation accuracy with respect to epochs\n",
    "plt.subplot(2, 1, 2)\n",
    "plt.plot(validation_accuracy_list, linewidth = 3, color = 'gold')\n",
    "plt.ylabel(\"validation accuracy\")\n",
    "sns.despine()"
   ]
  },
  {
   "cell_type": "code",
   "execution_count": 19,
   "metadata": {},
   "outputs": [
    {
     "name": "stdout",
     "output_type": "stream",
     "text": [
      "Testing Accuracy: 62.99999952316284%\n"
     ]
    }
   ],
   "source": [
    "# YOUR CODE HERE\n",
    "# Compute the testing accuracy.\n",
    "with torch.no_grad(): # Tell PyTorch that we aren't passing inputs to network for training purpose.\n",
    "\n",
    "    # Pass the testing feature data to the network to produce model predictions.\n",
    "    y_pred_test = model(x_test_final) \n",
    "    \n",
    "    # Use the same technique as above to compute the testing classification accuracy.\n",
    "    correct = (torch.argmax(y_pred_test, dim=1) == y_test_final).type(torch.FloatTensor)\n",
    "    \n",
    "    # Print test accuracy to the user.\n",
    "    print(\"Testing Accuracy: \" + str(correct.mean().numpy()*100) + '%')"
   ]
  },
  {
   "cell_type": "code",
   "execution_count": 20,
   "metadata": {},
   "outputs": [
    {
     "name": "stdout",
     "output_type": "stream",
     "text": [
      "tensor([3, 6, 6, 7, 5, 7, 3, 7, 5, 2, 3, 2, 7, 6, 0, 6, 1, 2, 7, 6, 2, 7, 7, 6,\n",
      "        0, 5, 2, 7, 7, 7, 6, 7, 3, 7, 7, 7, 3, 2, 2, 6, 2, 3, 5, 7, 1, 0, 6, 1,\n",
      "        3, 7, 5, 0, 5, 2, 2, 2, 1, 1, 1, 1, 6, 7, 5, 1, 6, 1, 5, 6, 5, 7, 0, 0,\n",
      "        2, 7, 2, 7, 1, 5, 3, 7, 7, 1, 5, 1, 7, 6, 7, 6, 5, 0, 5, 0, 2, 5, 5, 6,\n",
      "        1, 5, 5, 2])\n",
      "(100, 1)\n",
      "(100, 10)\n",
      "(100,)\n"
     ]
    }
   ],
   "source": [
    "# Check dimensions of our prediction and actual arrays and print some useful things.\n",
    "print(torch.argmax(y_pred_test, dim=1))\n",
    "print(x_test_final.numpy().shape)\n",
    "print(y_pred_test.numpy().shape)\n",
    "print(correct.numpy().shape)"
   ]
  },
  {
   "cell_type": "code",
   "execution_count": null,
   "metadata": {},
   "outputs": [],
   "source": []
  }
 ],
 "metadata": {
  "kernelspec": {
   "display_name": "venv",
   "language": "python",
   "name": "venv"
  },
  "language_info": {
   "codemirror_mode": {
    "name": "ipython",
    "version": 3
   },
   "file_extension": ".py",
   "mimetype": "text/x-python",
   "name": "python",
   "nbconvert_exporter": "python",
   "pygments_lexer": "ipython3",
   "version": "3.10.6"
  },
  "orig_nbformat": 4
 },
 "nbformat": 4,
 "nbformat_minor": 2
}
